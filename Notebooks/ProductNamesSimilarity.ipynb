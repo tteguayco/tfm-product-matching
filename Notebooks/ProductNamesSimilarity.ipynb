{
 "cells": [
  {
   "cell_type": "markdown",
   "metadata": {},
   "source": [
    "<div>\n",
    "    <img src=\"http://www.uoc.edu/portal/_resources/common/imatges/marca_UOC/UOC_Masterbrand.jpg\" ,=\"\" align=\"left\">\n",
    "</div>\n",
    "<div style=\"float: right; width: 50%;\">\n",
    "<p style=\"margin: 0; padding-top: 22px; text-align:right;\">End-of-degree Project: Product Matching</p>\n",
    "<p style=\"margin: 0; text-align:right;\">Master's Degree in Data Science</p>\n",
    "<p style=\"margin: 0; text-align:right; padding-button: 100px;\">Computer Science, Multimedia and Telecommunication Studies</p>\n",
    "</div>"
   ]
  },
  {
   "cell_type": "markdown",
   "metadata": {},
   "source": [
    "<h1>Product Matching using Natural Language Processing</h1>\n",
    "\n",
    "<hr style=\"background-color:#BCBCBC\"/>"
   ]
  },
  {
   "cell_type": "markdown",
   "metadata": {},
   "source": [
    "* [Machine Learning :: Cosine Similarity for Vector Space Models (Part III)](http://blog.christianperone.com/2013/09/machine-learning-cosine-similarity-for-vector-space-models-part-iii/)"
   ]
  },
  {
   "cell_type": "markdown",
   "metadata": {},
   "source": [
    "<h2>Imports</h2>"
   ]
  },
  {
   "cell_type": "code",
   "execution_count": 5,
   "metadata": {},
   "outputs": [],
   "source": [
    "import pandas as pd\n",
    "import numpy as np\n",
    "from sklearn.feature_extraction.text import TfidfVectorizer\n",
    "from sklearn.metrics.pairwise import cosine_similarity"
   ]
  },
  {
   "cell_type": "markdown",
   "metadata": {},
   "source": [
    "<h2>Data loading</h2>"
   ]
  },
  {
   "cell_type": "code",
   "execution_count": 12,
   "metadata": {},
   "outputs": [],
   "source": [
    "products_basic_df = pd.read_csv('../RawData/ProductsBasic.csv')\n",
    "\n",
    "product_names_df = pd.read_csv('../RawData/ProductDataFinal.csv')\n",
    "product_names_df = product_names_df.loc[:, ['ProductName', 'ProdanetID']]"
   ]
  },
  {
   "cell_type": "markdown",
   "metadata": {},
   "source": [
    "<h2>Text preprocessing</h2>"
   ]
  },
  {
   "cell_type": "code",
   "execution_count": null,
   "metadata": {},
   "outputs": [],
   "source": [
    "# TODO remove stopwords: English, German and Spanish\n",
    "# TODO remove punctuation marks"
   ]
  },
  {
   "cell_type": "markdown",
   "metadata": {},
   "source": [
    "<h2>TF-IDF vectorization and cosine similarity</h2>"
   ]
  },
  {
   "cell_type": "markdown",
   "metadata": {},
   "source": [
    "<h4>TF-IDF vectorization</h4>"
   ]
  },
  {
   "cell_type": "code",
   "execution_count": 8,
   "metadata": {},
   "outputs": [
    {
     "name": "stdout",
     "output_type": "stream",
     "text": [
      "Number of names of products (rows): 300000\n",
      "Number of feature names (columns): 127535\n"
     ]
    }
   ],
   "source": [
    "documents = product_names_df['ProductName'].values.astype('U').tolist()\n",
    "\n",
    "tfidf_vectorizer = TfidfVectorizer()\n",
    "tfidf_matrix = tfidf_vectorizer.fit_transform(documents)\n",
    "\n",
    "print(\"Number of names of products (rows): {}\".format(tfidf_matrix.shape[0]))\n",
    "print(\"Number of feature names (columns): {}\".format(tfidf_matrix.shape[1]))"
   ]
  },
  {
   "cell_type": "markdown",
   "metadata": {},
   "source": [
    "The number of features, which are the words that appear in the corpus (set of documents), can be also obtained by:  "
   ]
  },
  {
   "cell_type": "code",
   "execution_count": 9,
   "metadata": {},
   "outputs": [
    {
     "data": {
      "text/plain": [
       "127535"
      ]
     },
     "execution_count": 9,
     "metadata": {},
     "output_type": "execute_result"
    }
   ],
   "source": [
    "len(tfidf_vectorizer.get_feature_names())"
   ]
  },
  {
   "cell_type": "markdown",
   "metadata": {},
   "source": [
    "<h4>Getting the N most similar products using Cosine Similarity</h4>"
   ]
  },
  {
   "cell_type": "code",
   "execution_count": 16,
   "metadata": {},
   "outputs": [
    {
     "name": "stdout",
     "output_type": "stream",
     "text": [
      "Number of products to match (rows): 3\n",
      "Number of products to compare against (columns): 300000\n"
     ]
    }
   ],
   "source": [
    "N = 3\n",
    "\n",
    "# The following products are contained in the dataset having Amazon.de as their 'source' Web Shop\n",
    "products2match = [\n",
    "    'PANASONIC SC-PM 250 EG-S Micro-Anlage (CD, CD-R/-RW, USB, Silber/Schwarz)',      # Title in MediaMarkt.de\n",
    "    'Logitech PTZ Pro 2 (960-001186)',                                                # Title in Geizhals.at\n",
    "    'BBC Radio 1''s Dance Anthems Ibiza (CD)'                                         # Title in ElCorteIngles.es\n",
    "]\n",
    "\n",
    "vectorized_products2match = tfidf_vectorizer.transform(products2match)\n",
    "similarity_matrix = cosine_similarity(vectorized_products2match, tfidf_matrix)\n",
    "\n",
    "print(\"Number of products to match (rows): {}\".format(similarity_matrix.shape[0]))\n",
    "print(\"Number of products to compare against (columns): {}\".format(similarity_matrix.shape[1]))"
   ]
  },
  {
   "cell_type": "code",
   "execution_count": 24,
   "metadata": {},
   "outputs": [
    {
     "name": "stdout",
     "output_type": "stream",
     "text": [
      "\n",
      "Product to match [0]: PANASONIC SC-PM 250 EG-S Micro-Anlage (CD, CD-R/-RW, USB, Silber/Schwarz)\n",
      "Similar products\n",
      "================\n",
      "['SC-PM 250 EG-S'] (ProdanetID = [1031750])\n",
      "Similarity: 0.6528016072682775\n",
      "\n",
      "['PANASONIC SC-PM 250 EG-K schwarz - Kompaktanlage (20 Watt, Bluetooth, USB, Uhr, Timer)'] (ProdanetID = [1495704])\n",
      "Similarity: 0.5272207589981989\n",
      "\n",
      "['SC-PM 250BEGS'] (ProdanetID = [1236441])\n",
      "Similarity: 0.3280922801700285\n",
      "\n",
      "\n",
      "Product to match [1]: Logitech PTZ Pro 2 (960-001186)\n",
      "Similar products\n",
      "================\n",
      "['Logitech 960-001186 Webcam PTZ Pro 2\" Kamera für Videokonferenzen schwarz'] (ProdanetID = [1746977])\n",
      "Similarity: 0.7738816950942057\n",
      "\n",
      "['Logitech 960-001186 Webcam PTZ Pro 2\" Kamera für Videokonferenzen schwarz'] (ProdanetID = [1746977])\n",
      "Similarity: 0.7738816950942057\n",
      "\n",
      "['Logitech 960-001186 Webcam PTZ Pro 2\" Kamera für Videokonferenzen schwarz'] (ProdanetID = [1746977])\n",
      "Similarity: 0.7738816950942057\n",
      "\n",
      "\n",
      "Product to match [2]: BBC Radio 1s Dance Anthems Ibiza (CD)\n",
      "Similar products\n",
      "================\n",
      "[\"BBC Radio 1's Dance Anthems Ibiza\"] (ProdanetID = [1444577])\n",
      "Similarity: 0.9028062482309892\n",
      "\n",
      "[\"BBC Radio 1's Dance Anthems Ibiza\"] (ProdanetID = [1444577])\n",
      "Similarity: 0.9028062482309892\n",
      "\n",
      "['Pacha Ibiza Dance Anthems'] (ProdanetID = [700759])\n",
      "Similarity: 0.5817271693417377\n",
      "\n"
     ]
    }
   ],
   "source": [
    "for i in range(0, similarity_matrix.shape[0]):\n",
    "    print(\"\\nProduct to match [{}]: {}\".format(i, products2match[i]))\n",
    "    similarity_vector_i = similarity_matrix[i,:]\n",
    "    \n",
    "    # Select the N most similar products for product2match[i] (descending order)\n",
    "    n_most_similar_products_idx = reversed(np.argsort(similarity_vector_i)[-N:])\n",
    "    \n",
    "    print(\"Similar products\")\n",
    "    print(\"================\")\n",
    "    for similar_product_idx in n_most_similar_products_idx:\n",
    "        similar_product_df = product_names_df.iloc[[similar_product_idx]]\n",
    "        print(\"{} (ProdanetID = {})\".format(similar_product_df['ProductName'].values, \n",
    "                                            similar_product_df['ProdanetID'].values))\n",
    "        print(\"Similarity: {}\\n\".format(similarity_vector_i[similar_product_idx]))"
   ]
  },
  {
   "cell_type": "code",
   "execution_count": null,
   "metadata": {},
   "outputs": [],
   "source": []
  }
 ],
 "metadata": {
  "kernelspec": {
   "display_name": "Python 3",
   "language": "python",
   "name": "python3"
  },
  "language_info": {
   "codemirror_mode": {
    "name": "ipython",
    "version": 3
   },
   "file_extension": ".py",
   "mimetype": "text/x-python",
   "name": "python",
   "nbconvert_exporter": "python",
   "pygments_lexer": "ipython3",
   "version": "3.7.0"
  }
 },
 "nbformat": 4,
 "nbformat_minor": 2
}
