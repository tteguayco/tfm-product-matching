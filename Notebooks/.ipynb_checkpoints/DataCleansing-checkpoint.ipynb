{
 "cells": [
  {
   "cell_type": "markdown",
   "metadata": {},
   "source": [
    "<div>\n",
    "    <img src=\"http://www.uoc.edu/portal/_resources/common/imatges/marca_UOC/UOC_Masterbrand.jpg\" ,=\"\" align=\"left\">\n",
    "</div>\n",
    "<div style=\"float: right; width: 50%;\">\n",
    "<p style=\"margin: 0; padding-top: 22px; text-align:right;\">End-of-degree Project: Product Matching</p>\n",
    "<p style=\"margin: 0; text-align:right;\">Master's Degree in Data Science</p>\n",
    "<p style=\"margin: 0; text-align:right; padding-button: 100px;\">Computer Science, Multimedia and Telecommunication Studies</p>\n",
    "</div>"
   ]
  },
  {
   "cell_type": "markdown",
   "metadata": {},
   "source": [
    "<h1>Product Final Data cleansing</h1>\n",
    "\n",
    "<hr style=\"background-color:#BCBCBC\"/>\n",
    "\n",
    "In this Notebook..."
   ]
  },
  {
   "cell_type": "markdown",
   "metadata": {},
   "source": [
    "<h2>Imports</h2>"
   ]
  },
  {
   "cell_type": "code",
   "execution_count": 15,
   "metadata": {},
   "outputs": [],
   "source": [
    "import pandas as pd\n",
    "import numpy as np"
   ]
  },
  {
   "cell_type": "markdown",
   "metadata": {},
   "source": [
    "<h2>Matched Products Data Loading</h2>"
   ]
  },
  {
   "cell_type": "code",
   "execution_count": 26,
   "metadata": {},
   "outputs": [
    {
     "name": "stdout",
     "output_type": "stream",
     "text": [
      "Initial number of products (rows): 300000\n",
      "Initial number of attributes (columns): 35\n"
     ]
    }
   ],
   "source": [
    "PRODUCT_DATA_FINAL_PATH = '../RawData/ProductDataFinal.csv'\n",
    "\n",
    "df = pd.read_csv(PRODUCT_DATA_FINAL_PATH)\n",
    "\n",
    "print(\"Initial number of products (rows): {}\".format(df.shape[0]))\n",
    "print(\"Initial number of attributes (columns): {}\".format(df.shape[1]))"
   ]
  },
  {
   "cell_type": "markdown",
   "metadata": {},
   "source": [
    "<h2>Attribute selection and processing</h2>"
   ]
  },
  {
   "cell_type": "code",
   "execution_count": 27,
   "metadata": {},
   "outputs": [],
   "source": [
    "df = df.loc[:,\n",
    "    [\n",
    "        'WebShopName',\n",
    "        'WebShopProductID',\n",
    "        'BrandName',\n",
    "        'Name',\n",
    "        'Price',\n",
    "        'Currency',\n",
    "        'Color',\n",
    "        'ProdanetID'\n",
    "    ]]\n",
    "\n",
    "df['WebShopName'] = df['WebShopName'].astype('category')\n",
    "df['WebShopProductID'] = df['WebShopProductID'].astype('category')\n",
    "df['BrandName'] = df['BrandName'].astype('category')\n",
    "df['Name'] = df['Name'].astype('category')\n",
    "df['Price'] = df['Price'].astype('float')\n",
    "df['Currency'] = df['Currency'].astype('category')\n",
    "df['Color'] = df['Color'].astype('category')\n",
    "df['ProdanetID'] = df['ProdanetID'].astype('category')"
   ]
  },
  {
   "cell_type": "markdown",
   "metadata": {},
   "source": [
    "<h2>Data filtering</h2>"
   ]
  },
  {
   "cell_type": "code",
   "execution_count": 28,
   "metadata": {},
   "outputs": [],
   "source": [
    "# Work only with prices in EUR\n",
    "df = df.loc[df['Currency'] == 'EUR']\n",
    "\n",
    "# Shuffle the dataset\n",
    "df = df.sample(frac=1)"
   ]
  },
  {
   "cell_type": "code",
   "execution_count": 29,
   "metadata": {},
   "outputs": [
    {
     "data": {
      "text/html": [
       "<div>\n",
       "<style scoped>\n",
       "    .dataframe tbody tr th:only-of-type {\n",
       "        vertical-align: middle;\n",
       "    }\n",
       "\n",
       "    .dataframe tbody tr th {\n",
       "        vertical-align: top;\n",
       "    }\n",
       "\n",
       "    .dataframe thead th {\n",
       "        text-align: right;\n",
       "    }\n",
       "</style>\n",
       "<table border=\"1\" class=\"dataframe\">\n",
       "  <thead>\n",
       "    <tr style=\"text-align: right;\">\n",
       "      <th></th>\n",
       "      <th>WebShopName</th>\n",
       "      <th>WebShopProductID</th>\n",
       "      <th>BrandName</th>\n",
       "      <th>Name</th>\n",
       "      <th>Price</th>\n",
       "      <th>Currency</th>\n",
       "      <th>Color</th>\n",
       "      <th>ProdanetID</th>\n",
       "    </tr>\n",
       "  </thead>\n",
       "  <tbody>\n",
       "    <tr>\n",
       "      <th>103617</th>\n",
       "      <td>Worten.pt</td>\n",
       "      <td>6089956</td>\n",
       "      <td>Epson</td>\n",
       "      <td>Projetor EPSON EB-680Wi</td>\n",
       "      <td>2799.00</td>\n",
       "      <td>EUR</td>\n",
       "      <td>NaN</td>\n",
       "      <td>1625873</td>\n",
       "    </tr>\n",
       "    <tr>\n",
       "      <th>244602</th>\n",
       "      <td>JPC.de</td>\n",
       "      <td>8152803</td>\n",
       "      <td>NaN</td>\n",
       "      <td>Omik K: Coño (Limited-Edition) (Box) auf 4 CDs...</td>\n",
       "      <td>39.99</td>\n",
       "      <td>EUR</td>\n",
       "      <td>NaN</td>\n",
       "      <td>1919939</td>\n",
       "    </tr>\n",
       "    <tr>\n",
       "      <th>150258</th>\n",
       "      <td>Amazon.de</td>\n",
       "      <td>B079JPNTGC</td>\n",
       "      <td>NaN</td>\n",
       "      <td>The Whiskey Bandit - Allein gegen das Gesetz [...</td>\n",
       "      <td>8.99</td>\n",
       "      <td>EUR</td>\n",
       "      <td>NaN</td>\n",
       "      <td>1903771</td>\n",
       "    </tr>\n",
       "    <tr>\n",
       "      <th>138128</th>\n",
       "      <td>JPC.de</td>\n",
       "      <td>1529506</td>\n",
       "      <td>NaN</td>\n",
       "      <td>Charles Gounod: Faust (\"Margarethe\") auf 2 DVD...</td>\n",
       "      <td>19.99</td>\n",
       "      <td>EUR</td>\n",
       "      <td>NaN</td>\n",
       "      <td>1391328</td>\n",
       "    </tr>\n",
       "    <tr>\n",
       "      <th>28619</th>\n",
       "      <td>Amazon.de</td>\n",
       "      <td>B00ISNGAQ4</td>\n",
       "      <td>NaN</td>\n",
       "      <td>Meine teuflischen Nachbarn [Blu-ray]</td>\n",
       "      <td>8.84</td>\n",
       "      <td>EUR</td>\n",
       "      <td>NaN</td>\n",
       "      <td>1041560</td>\n",
       "    </tr>\n",
       "  </tbody>\n",
       "</table>\n",
       "</div>"
      ],
      "text/plain": [
       "       WebShopName WebShopProductID BrandName  \\\n",
       "103617   Worten.pt          6089956     Epson   \n",
       "244602      JPC.de          8152803       NaN   \n",
       "150258   Amazon.de       B079JPNTGC       NaN   \n",
       "138128      JPC.de          1529506       NaN   \n",
       "28619    Amazon.de       B00ISNGAQ4       NaN   \n",
       "\n",
       "                                                     Name    Price Currency  \\\n",
       "103617                            Projetor EPSON EB-680Wi  2799.00      EUR   \n",
       "244602  Omik K: Coño (Limited-Edition) (Box) auf 4 CDs...    39.99      EUR   \n",
       "150258  The Whiskey Bandit - Allein gegen das Gesetz [...     8.99      EUR   \n",
       "138128  Charles Gounod: Faust (\"Margarethe\") auf 2 DVD...    19.99      EUR   \n",
       "28619                Meine teuflischen Nachbarn [Blu-ray]     8.84      EUR   \n",
       "\n",
       "       Color ProdanetID  \n",
       "103617   NaN    1625873  \n",
       "244602   NaN    1919939  \n",
       "150258   NaN    1903771  \n",
       "138128   NaN    1391328  \n",
       "28619    NaN    1041560  "
      ]
     },
     "execution_count": 29,
     "metadata": {},
     "output_type": "execute_result"
    }
   ],
   "source": [
    "df.head(5)"
   ]
  },
  {
   "cell_type": "code",
   "execution_count": 30,
   "metadata": {},
   "outputs": [
    {
     "data": {
      "text/html": [
       "<div>\n",
       "<style scoped>\n",
       "    .dataframe tbody tr th:only-of-type {\n",
       "        vertical-align: middle;\n",
       "    }\n",
       "\n",
       "    .dataframe tbody tr th {\n",
       "        vertical-align: top;\n",
       "    }\n",
       "\n",
       "    .dataframe thead th {\n",
       "        text-align: right;\n",
       "    }\n",
       "</style>\n",
       "<table border=\"1\" class=\"dataframe\">\n",
       "  <thead>\n",
       "    <tr style=\"text-align: right;\">\n",
       "      <th></th>\n",
       "      <th>WebShopName</th>\n",
       "      <th>WebShopProductID</th>\n",
       "      <th>BrandName</th>\n",
       "      <th>Name</th>\n",
       "      <th>Price</th>\n",
       "      <th>Currency</th>\n",
       "      <th>Color</th>\n",
       "      <th>ProdanetID</th>\n",
       "    </tr>\n",
       "  </thead>\n",
       "  <tbody>\n",
       "    <tr>\n",
       "      <th>count</th>\n",
       "      <td>296714</td>\n",
       "      <td>296714</td>\n",
       "      <td>191977</td>\n",
       "      <td>296711</td>\n",
       "      <td>296714.000000</td>\n",
       "      <td>296714</td>\n",
       "      <td>7826</td>\n",
       "      <td>296714.0</td>\n",
       "    </tr>\n",
       "    <tr>\n",
       "      <th>unique</th>\n",
       "      <td>784</td>\n",
       "      <td>194064</td>\n",
       "      <td>1824</td>\n",
       "      <td>199841</td>\n",
       "      <td>NaN</td>\n",
       "      <td>1</td>\n",
       "      <td>1852</td>\n",
       "      <td>159569.0</td>\n",
       "    </tr>\n",
       "    <tr>\n",
       "      <th>top</th>\n",
       "      <td>Amazon.de</td>\n",
       "      <td>5893697</td>\n",
       "      <td>Hama</td>\n",
       "      <td>Bosch HRG6753S2</td>\n",
       "      <td>NaN</td>\n",
       "      <td>EUR</td>\n",
       "      <td>schwarz</td>\n",
       "      <td>1845671.0</td>\n",
       "    </tr>\n",
       "    <tr>\n",
       "      <th>freq</th>\n",
       "      <td>75985</td>\n",
       "      <td>1321</td>\n",
       "      <td>48778</td>\n",
       "      <td>1322</td>\n",
       "      <td>NaN</td>\n",
       "      <td>296714</td>\n",
       "      <td>660</td>\n",
       "      <td>1322.0</td>\n",
       "    </tr>\n",
       "    <tr>\n",
       "      <th>mean</th>\n",
       "      <td>NaN</td>\n",
       "      <td>NaN</td>\n",
       "      <td>NaN</td>\n",
       "      <td>NaN</td>\n",
       "      <td>136.683255</td>\n",
       "      <td>NaN</td>\n",
       "      <td>NaN</td>\n",
       "      <td>NaN</td>\n",
       "    </tr>\n",
       "    <tr>\n",
       "      <th>std</th>\n",
       "      <td>NaN</td>\n",
       "      <td>NaN</td>\n",
       "      <td>NaN</td>\n",
       "      <td>NaN</td>\n",
       "      <td>806.697090</td>\n",
       "      <td>NaN</td>\n",
       "      <td>NaN</td>\n",
       "      <td>NaN</td>\n",
       "    </tr>\n",
       "    <tr>\n",
       "      <th>min</th>\n",
       "      <td>NaN</td>\n",
       "      <td>NaN</td>\n",
       "      <td>NaN</td>\n",
       "      <td>NaN</td>\n",
       "      <td>0.010000</td>\n",
       "      <td>NaN</td>\n",
       "      <td>NaN</td>\n",
       "      <td>NaN</td>\n",
       "    </tr>\n",
       "    <tr>\n",
       "      <th>25%</th>\n",
       "      <td>NaN</td>\n",
       "      <td>NaN</td>\n",
       "      <td>NaN</td>\n",
       "      <td>NaN</td>\n",
       "      <td>12.600000</td>\n",
       "      <td>NaN</td>\n",
       "      <td>NaN</td>\n",
       "      <td>NaN</td>\n",
       "    </tr>\n",
       "    <tr>\n",
       "      <th>50%</th>\n",
       "      <td>NaN</td>\n",
       "      <td>NaN</td>\n",
       "      <td>NaN</td>\n",
       "      <td>NaN</td>\n",
       "      <td>19.990000</td>\n",
       "      <td>NaN</td>\n",
       "      <td>NaN</td>\n",
       "      <td>NaN</td>\n",
       "    </tr>\n",
       "    <tr>\n",
       "      <th>75%</th>\n",
       "      <td>NaN</td>\n",
       "      <td>NaN</td>\n",
       "      <td>NaN</td>\n",
       "      <td>NaN</td>\n",
       "      <td>64.090000</td>\n",
       "      <td>NaN</td>\n",
       "      <td>NaN</td>\n",
       "      <td>NaN</td>\n",
       "    </tr>\n",
       "    <tr>\n",
       "      <th>max</th>\n",
       "      <td>NaN</td>\n",
       "      <td>NaN</td>\n",
       "      <td>NaN</td>\n",
       "      <td>NaN</td>\n",
       "      <td>299505.000000</td>\n",
       "      <td>NaN</td>\n",
       "      <td>NaN</td>\n",
       "      <td>NaN</td>\n",
       "    </tr>\n",
       "  </tbody>\n",
       "</table>\n",
       "</div>"
      ],
      "text/plain": [
       "       WebShopName WebShopProductID BrandName             Name          Price  \\\n",
       "count       296714           296714    191977           296711  296714.000000   \n",
       "unique         784           194064      1824           199841            NaN   \n",
       "top      Amazon.de          5893697      Hama  Bosch HRG6753S2            NaN   \n",
       "freq         75985             1321     48778             1322            NaN   \n",
       "mean           NaN              NaN       NaN              NaN     136.683255   \n",
       "std            NaN              NaN       NaN              NaN     806.697090   \n",
       "min            NaN              NaN       NaN              NaN       0.010000   \n",
       "25%            NaN              NaN       NaN              NaN      12.600000   \n",
       "50%            NaN              NaN       NaN              NaN      19.990000   \n",
       "75%            NaN              NaN       NaN              NaN      64.090000   \n",
       "max            NaN              NaN       NaN              NaN  299505.000000   \n",
       "\n",
       "       Currency     Color  ProdanetID  \n",
       "count    296714      7826    296714.0  \n",
       "unique        1      1852    159569.0  \n",
       "top         EUR  schwarz    1845671.0  \n",
       "freq     296714       660      1322.0  \n",
       "mean        NaN       NaN         NaN  \n",
       "std         NaN       NaN         NaN  \n",
       "min         NaN       NaN         NaN  \n",
       "25%         NaN       NaN         NaN  \n",
       "50%         NaN       NaN         NaN  \n",
       "75%         NaN       NaN         NaN  \n",
       "max         NaN       NaN         NaN  "
      ]
     },
     "execution_count": 30,
     "metadata": {},
     "output_type": "execute_result"
    }
   ],
   "source": [
    "df.describe(include = 'all')"
   ]
  },
  {
   "cell_type": "markdown",
   "metadata": {},
   "source": [
    "<h2>Export</h2>"
   ]
  },
  {
   "cell_type": "code",
   "execution_count": 7,
   "metadata": {},
   "outputs": [],
   "source": [
    "PRODUCT_DATA_FINAL_CLEAN_FILE_PATH = \"../CleanData/CleanProductDataFinal.csv\"\n",
    "\n",
    "df.to_csv(PRODUCT_DATA_FINAL_CLEAN_FILE_PATH, sep=',', encoding='utf-8')"
   ]
  },
  {
   "cell_type": "markdown",
   "metadata": {},
   "source": [
    "<h1>K Nearest Neighbors</h1>"
   ]
  },
  {
   "cell_type": "markdown",
   "metadata": {},
   "source": [
    "<h2>Categorical variables encoding</h2>"
   ]
  },
  {
   "cell_type": "code",
   "execution_count": 11,
   "metadata": {},
   "outputs": [
    {
     "name": "stdout",
     "output_type": "stream",
     "text": [
      "(296714, 2648)\n"
     ]
    },
    {
     "ename": "AttributeError",
     "evalue": "'list' object has no attribute 'shape'",
     "output_type": "error",
     "traceback": [
      "\u001b[1;31m---------------------------------------------------------------------------\u001b[0m",
      "\u001b[1;31mAttributeError\u001b[0m                            Traceback (most recent call last)",
      "\u001b[1;32m<ipython-input-11-c486cbfbebd0>\u001b[0m in \u001b[0;36m<module>\u001b[1;34m()\u001b[0m\n\u001b[0;32m     13\u001b[0m \u001b[1;33m\u001b[0m\u001b[0m\n\u001b[0;32m     14\u001b[0m \u001b[0mprint\u001b[0m\u001b[1;33m(\u001b[0m\u001b[0mX\u001b[0m\u001b[1;33m.\u001b[0m\u001b[0mshape\u001b[0m\u001b[1;33m)\u001b[0m\u001b[1;33m\u001b[0m\u001b[0m\n\u001b[1;32m---> 15\u001b[1;33m \u001b[0mprint\u001b[0m\u001b[1;33m(\u001b[0m\u001b[0my\u001b[0m\u001b[1;33m.\u001b[0m\u001b[0mshape\u001b[0m\u001b[1;33m)\u001b[0m\u001b[1;33m\u001b[0m\u001b[0m\n\u001b[0m",
      "\u001b[1;31mAttributeError\u001b[0m: 'list' object has no attribute 'shape'"
     ]
    }
   ],
   "source": [
    "X = pd.get_dummies(df.loc[:, ['WebShopName', 'BrandName']])\n",
    "X = X.join(df['Price'])\n",
    "\n",
    "y = df['ProdanetID'].values.tolist()"
   ]
  },
  {
   "cell_type": "code",
   "execution_count": 14,
   "metadata": {},
   "outputs": [
    {
     "ename": "MemoryError",
     "evalue": "",
     "output_type": "error",
     "traceback": [
      "\u001b[1;31m---------------------------------------------------------------------------\u001b[0m",
      "\u001b[1;31mMemoryError\u001b[0m                               Traceback (most recent call last)",
      "\u001b[1;32m<ipython-input-14-7314374bf6f7>\u001b[0m in \u001b[0;36m<module>\u001b[1;34m()\u001b[0m\n\u001b[0;32m      2\u001b[0m \u001b[1;33m\u001b[0m\u001b[0m\n\u001b[0;32m      3\u001b[0m \u001b[0mclf\u001b[0m \u001b[1;33m=\u001b[0m \u001b[0mKNeighborsClassifier\u001b[0m\u001b[1;33m(\u001b[0m\u001b[0mn_neighbors\u001b[0m\u001b[1;33m=\u001b[0m\u001b[1;36m3\u001b[0m\u001b[1;33m)\u001b[0m\u001b[1;33m\u001b[0m\u001b[0m\n\u001b[1;32m----> 4\u001b[1;33m \u001b[0mclf\u001b[0m\u001b[1;33m.\u001b[0m\u001b[0mfit\u001b[0m\u001b[1;33m(\u001b[0m\u001b[0mX\u001b[0m\u001b[1;33m,\u001b[0m \u001b[0my\u001b[0m\u001b[1;33m)\u001b[0m\u001b[1;33m\u001b[0m\u001b[0m\n\u001b[0m",
      "\u001b[1;32m~\\Anaconda3\\lib\\site-packages\\sklearn\\neighbors\\base.py\u001b[0m in \u001b[0;36mfit\u001b[1;34m(self, X, y)\u001b[0m\n\u001b[0;32m    788\u001b[0m             \u001b[0mself\u001b[0m\u001b[1;33m.\u001b[0m\u001b[0m_y\u001b[0m \u001b[1;33m=\u001b[0m \u001b[0mself\u001b[0m\u001b[1;33m.\u001b[0m\u001b[0m_y\u001b[0m\u001b[1;33m.\u001b[0m\u001b[0mravel\u001b[0m\u001b[1;33m(\u001b[0m\u001b[1;33m)\u001b[0m\u001b[1;33m\u001b[0m\u001b[0m\n\u001b[0;32m    789\u001b[0m \u001b[1;33m\u001b[0m\u001b[0m\n\u001b[1;32m--> 790\u001b[1;33m         \u001b[1;32mreturn\u001b[0m \u001b[0mself\u001b[0m\u001b[1;33m.\u001b[0m\u001b[0m_fit\u001b[0m\u001b[1;33m(\u001b[0m\u001b[0mX\u001b[0m\u001b[1;33m)\u001b[0m\u001b[1;33m\u001b[0m\u001b[0m\n\u001b[0m\u001b[0;32m    791\u001b[0m \u001b[1;33m\u001b[0m\u001b[0m\n\u001b[0;32m    792\u001b[0m \u001b[1;33m\u001b[0m\u001b[0m\n",
      "\u001b[1;32m~\\Anaconda3\\lib\\site-packages\\sklearn\\neighbors\\base.py\u001b[0m in \u001b[0;36m_fit\u001b[1;34m(self, X)\u001b[0m\n\u001b[0;32m    246\u001b[0m             self._tree = KDTree(X, self.leaf_size,\n\u001b[0;32m    247\u001b[0m                                 \u001b[0mmetric\u001b[0m\u001b[1;33m=\u001b[0m\u001b[0mself\u001b[0m\u001b[1;33m.\u001b[0m\u001b[0meffective_metric_\u001b[0m\u001b[1;33m,\u001b[0m\u001b[1;33m\u001b[0m\u001b[0m\n\u001b[1;32m--> 248\u001b[1;33m                                 **self.effective_metric_params_)\n\u001b[0m\u001b[0;32m    249\u001b[0m         \u001b[1;32melif\u001b[0m \u001b[0mself\u001b[0m\u001b[1;33m.\u001b[0m\u001b[0m_fit_method\u001b[0m \u001b[1;33m==\u001b[0m \u001b[1;34m'brute'\u001b[0m\u001b[1;33m:\u001b[0m\u001b[1;33m\u001b[0m\u001b[0m\n\u001b[0;32m    250\u001b[0m             \u001b[0mself\u001b[0m\u001b[1;33m.\u001b[0m\u001b[0m_tree\u001b[0m \u001b[1;33m=\u001b[0m \u001b[1;32mNone\u001b[0m\u001b[1;33m\u001b[0m\u001b[0m\n",
      "\u001b[1;32msklearn/neighbors/binary_tree.pxi\u001b[0m in \u001b[0;36msklearn.neighbors.kd_tree.BinaryTree.__init__\u001b[1;34m()\u001b[0m\n",
      "\u001b[1;32msklearn/neighbors/kd_tree.pyx\u001b[0m in \u001b[0;36msklearn.neighbors.kd_tree.allocate_data\u001b[1;34m()\u001b[0m\n",
      "\u001b[1;31mMemoryError\u001b[0m: "
     ]
    }
   ],
   "source": [
    "from sklearn.neighbors import KNeighborsClassifier\n",
    "\n",
    "clf = KNeighborsClassifier(n_neighbors=3)\n",
    "clf.fit(X, y)"
   ]
  },
  {
   "cell_type": "code",
   "execution_count": null,
   "metadata": {},
   "outputs": [],
   "source": [
    "#%reset"
   ]
  },
  {
   "cell_type": "code",
   "execution_count": 49,
   "metadata": {},
   "outputs": [
    {
     "name": "stdout",
     "output_type": "stream",
     "text": [
      "(296714, 126522)\n"
     ]
    }
   ],
   "source": [
    "# https://stackoverflow.com/questions/44862712/td-idf-find-cosine-similarity-between-new-document-and-dataset\n",
    "# http://blog.christianperone.com/2013/09/machine-learning-cosine-similarity-for-vector-space-models-part-iii/\n",
    "\n",
    "from sklearn.feature_extraction.text import TfidfVectorizer\n",
    "\n",
    "documents = df['Name'].values.astype('U').tolist()\n",
    "\n",
    "tfidf_vectorizer = TfidfVectorizer()\n",
    "tfidf_matrix = tfidf_vectorizer.fit_transform(documents)\n",
    "print(tfidf_matrix.shape)"
   ]
  },
  {
   "cell_type": "code",
   "execution_count": 99,
   "metadata": {},
   "outputs": [],
   "source": [
    "from sklearn.metrics.pairwise import cosine_similarity\n",
    "\n",
    "new_product_vectorized = tfidf_vectorizer.transform([\"Lenovo ThinkPad T480 1.60GHz i5-8250U 14\"\" 1920 x 1080Pixeles Negro Portátil\"])\n",
    "\n",
    "similarity_matrix = cosine_similarity(new_product_vectorized, tfidf_matrix)"
   ]
  },
  {
   "cell_type": "code",
   "execution_count": 100,
   "metadata": {},
   "outputs": [],
   "source": [
    "max_index = np.argmax(similarity_matrix)\n",
    "max_prop = np.amax(similarity_matrix)"
   ]
  },
  {
   "cell_type": "code",
   "execution_count": 101,
   "metadata": {},
   "outputs": [
    {
     "data": {
      "text/plain": [
       "(138566, 0.5788563189772609)"
      ]
     },
     "execution_count": 101,
     "metadata": {},
     "output_type": "execute_result"
    }
   ],
   "source": [
    "max_index, max_prop"
   ]
  },
  {
   "cell_type": "code",
   "execution_count": 102,
   "metadata": {},
   "outputs": [
    {
     "data": {
      "text/plain": [
       "WebShopName                                                  E_TEC.at\n",
       "WebShopProductID                                               273429\n",
       "BrandName                                                      Lenovo\n",
       "Name                Lenovo ThinkPad T480, Core i5-8250U, 16GB RAM,...\n",
       "Price                                                         1706.45\n",
       "Currency                                                          EUR\n",
       "Color                                                             NaN\n",
       "ProdanetID                                                    2045891\n",
       "Name: 68407, dtype: object"
      ]
     },
     "execution_count": 102,
     "metadata": {},
     "output_type": "execute_result"
    }
   ],
   "source": [
    "df.iloc[max_index]"
   ]
  },
  {
   "cell_type": "code",
   "execution_count": null,
   "metadata": {},
   "outputs": [],
   "source": []
  },
  {
   "cell_type": "code",
   "execution_count": null,
   "metadata": {},
   "outputs": [],
   "source": []
  }
 ],
 "metadata": {
  "kernelspec": {
   "display_name": "Python 3",
   "language": "python",
   "name": "python3"
  },
  "language_info": {
   "codemirror_mode": {
    "name": "ipython",
    "version": 3
   },
   "file_extension": ".py",
   "mimetype": "text/x-python",
   "name": "python",
   "nbconvert_exporter": "python",
   "pygments_lexer": "ipython3",
   "version": "3.7.0"
  }
 },
 "nbformat": 4,
 "nbformat_minor": 2
}
