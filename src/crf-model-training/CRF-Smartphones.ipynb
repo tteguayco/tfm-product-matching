{
 "cells": [
  {
   "cell_type": "markdown",
   "metadata": {},
   "source": [
    "<h2>Conditional Random Fields (CRF) model for Smartphones offer titles</h2>"
   ]
  },
  {
   "cell_type": "code",
   "execution_count": 1,
   "metadata": {},
   "outputs": [],
   "source": [
    "import pandas as pd\n",
    "import time\n",
    "\n",
    "from sklearn import model_selection, metrics\n",
    "from joblib import dump\n",
    "from sklearn_crfsuite import metrics\n",
    "import sklearn_crfsuite\n",
    "import scipy\n",
    "import sklearn"
   ]
  },
  {
   "cell_type": "code",
   "execution_count": 2,
   "metadata": {},
   "outputs": [],
   "source": [
    "BIO_ENCODED_PRODUCT_TITLES_PATHFILE = \"../_data/bio_encoded_product_titles.csv\"\n",
    "\n",
    "def get_bio_encoded_titles(file_path):\n",
    "    '''\n",
    "    Returns the features for the product titles (i.e. the words) as a list of \n",
    "    lists of strings and the labels for these features as a list of lists of strings.\n",
    "    '''\n",
    "    features = []\n",
    "    labels = []\n",
    "    classes = []\n",
    "\n",
    "    bio_titles_df = pd.read_csv(BIO_ENCODED_PRODUCT_TITLES_PATHFILE, encoding='iso-8859-1')\n",
    "    classes = bio_titles_df[\"BIOTag\"].unique()\n",
    "\n",
    "    for titleNum in bio_titles_df[\"TitleNumber\"].unique():\n",
    "        title_features = bio_titles_df.loc[bio_titles_df[\"TitleNumber\"] == titleNum, \"Word\"].tolist()\n",
    "        title_labels = bio_titles_df.loc[bio_titles_df[\"TitleNumber\"] == titleNum, \"BIOTag\"].tolist()\n",
    "\n",
    "        features.append(title_features)\n",
    "        labels.append(title_labels)\n",
    "\n",
    "    return features, labels, classes"
   ]
  },
  {
   "cell_type": "code",
   "execution_count": 3,
   "metadata": {},
   "outputs": [
    {
     "name": "stdout",
     "output_type": "stream",
     "text": [
      "BIO-encoded titles collected. Elapsed time (s): 196.054\n",
      "Number of BIO-encoded titles collected: 57535\n",
      "\n"
     ]
    }
   ],
   "source": [
    "start_time = time.time()\n",
    "bio_encoded_titles = get_bio_encoded_titles(BIO_ENCODED_PRODUCT_TITLES_PATHFILE)\n",
    "elapsed_time = round(time.time() - start_time, 3)\n",
    "\n",
    "print(\"BIO-encoded titles collected. Elapsed time (s): {}\".format(elapsed_time))\n",
    "print(\"Number of BIO-encoded titles collected: {}\\n\".format(len(bio_encoded_titles[0])))"
   ]
  },
  {
   "cell_type": "code",
   "execution_count": 4,
   "metadata": {},
   "outputs": [
    {
     "name": "stdout",
     "output_type": "stream",
     "text": [
      "BIO-encoded title i = 3100 \n",
      "Features = ['samsung', 'galaxy', 's7', 'edge', 'smartphone', '55', 'zoll', '139', 'cm', '32gb', 'interner', 'speicher']\n",
      "Labels = ['B-BRAND', 'B-MODEL', 'I-MODEL', 'I-MODEL', 'O', 'O', 'O', 'O', 'O', 'O', 'O', 'O']\n"
     ]
    }
   ],
   "source": [
    "# Show and example of a BIO-encoded product title by BIOTagger\n",
    "i = 3100\n",
    "print(\"BIO-encoded title i = {} \".format(i))\n",
    "print(\"Features = {}\".format(str(bio_encoded_titles[0][i])))\n",
    "print(\"Labels = {}\".format(str(bio_encoded_titles[1][i])))"
   ]
  },
  {
   "cell_type": "code",
   "execution_count": 46,
   "metadata": {},
   "outputs": [],
   "source": [
    "def word2features(product_title, i):\n",
    "    '''\n",
    "    A product title is received as a list of words (i.e. strings).\n",
    "    '''\n",
    "    word = product_title[i]\n",
    "\n",
    "    features = {\n",
    "        'word.lower()': word.lower(),\n",
    "        'word.isupper()': word.isupper(),\n",
    "        'word.istitle()': word.istitle(),\n",
    "        'word.isdigit()': word.isdigit(),\n",
    "        'word.isalpha()': word.isalpha(),\n",
    "        'word.containsdigit()': any(char.isdigit() for char in word),\n",
    "        'word.containsNonAlphanumericChars()': not word.isalnum(),\n",
    "    }\n",
    "    \n",
    "    # The word is not the beggining of a product title\n",
    "    if i > 0:\n",
    "        preceding_word = product_title[i-1]\n",
    "        features.update({\n",
    "            '-1:word.lower()': preceding_word.lower(),\n",
    "            '-1:word.istitle()': preceding_word.istitle(),\n",
    "            '-1:word.isupper()': preceding_word.isupper(),\n",
    "        })\n",
    "        \n",
    "    # The word is the beginning of a product title\n",
    "    else:\n",
    "        features['BOT'] = True\n",
    "\n",
    "    # The word is not the end of a product title\n",
    "    if i < len(product_title) - 1:\n",
    "        subsequent_word = product_title[i+1]\n",
    "        features.update({\n",
    "            '+1:word.lower()': subsequent_word.lower(),\n",
    "            '+1:word.istitle()': subsequent_word.istitle(),\n",
    "            '+1:word.isupper()': subsequent_word.isupper(),\n",
    "        })\n",
    "        \n",
    "    # The word is not the end of a product title\n",
    "    else:\n",
    "        features['EOT'] = True\n",
    "\n",
    "    return features\n",
    "\n",
    "\n",
    "def title2features(product_title):\n",
    "    return [word2features(product_title, i) for i in range(len(product_title))]"
   ]
  },
  {
   "cell_type": "code",
   "execution_count": 47,
   "metadata": {},
   "outputs": [],
   "source": [
    "features = [title2features(title) for title in bio_encoded_titles[0]]\n",
    "labels = bio_encoded_titles[1]\n",
    "classes = bio_encoded_titles[2]\n",
    "\n",
    "X_train, X_test, y_train, y_test = model_selection.train_test_split(features, labels, test_size=0.30, random_state=0)"
   ]
  },
  {
   "cell_type": "code",
   "execution_count": 48,
   "metadata": {},
   "outputs": [
    {
     "name": "stdout",
     "output_type": "stream",
     "text": [
      "CRF model training finished. Elapsed time (s): 65.242\n"
     ]
    }
   ],
   "source": [
    "crf = sklearn_crfsuite.CRF(\n",
    "    algorithm='lbfgs',\n",
    "    c1=0.1,\n",
    "    c2=0.15,\n",
    "    max_iterations=200,\n",
    "    all_possible_transitions=True\n",
    ")\n",
    "\n",
    "start_time = time.time()\n",
    "crf.fit(X_train, y_train)\n",
    "elapsed_time = round(time.time() - start_time, 3)\n",
    "\n",
    "print(\"CRF model training finished. Elapsed time (s): {}\".format(elapsed_time))\n",
    "\n",
    "y_pred = crf.predict(X_test)"
   ]
  },
  {
   "cell_type": "markdown",
   "metadata": {},
   "source": [
    "<h2>Evaluation</h2>"
   ]
  },
  {
   "cell_type": "code",
   "execution_count": 49,
   "metadata": {},
   "outputs": [
    {
     "name": "stdout",
     "output_type": "stream",
     "text": [
      "              precision    recall  f1-score   support\n",
      "\n",
      "     B-BRAND       1.00      1.00      1.00     17605\n",
      "     B-MODEL       1.00      1.00      1.00     17261\n",
      "     B-COLOR       1.00      1.00      1.00     14514\n",
      "     I-MODEL       1.00      1.00      1.00      9249\n",
      "       B-RAM       0.97      0.98      0.98       843\n",
      "       I-RAM       0.96      0.98      0.97       520\n",
      "\n",
      "   micro avg       1.00      1.00      1.00     59992\n",
      "   macro avg       0.99      0.99      0.99     59992\n",
      "weighted avg       1.00      1.00      1.00     59992\n",
      "\n"
     ]
    }
   ],
   "source": [
    "# Remove 'O'-tagged words, as most of the words will be 'O'-tagged\n",
    "# and the results will look much better than what they actually are\n",
    "labels = list(crf.classes_)\n",
    "labels.remove('O')\n",
    "\n",
    "print(metrics.flat_classification_report(y_test, y_pred, labels = labels))"
   ]
  },
  {
   "cell_type": "code",
   "execution_count": 50,
   "metadata": {
    "scrolled": true
   },
   "outputs": [
    {
     "name": "stdout",
     "output_type": "stream",
     "text": [
      "['Apple', 'iPhone', '4s', '4G', '64GB', 'BLUE']\n",
      "['B-BRAND', 'B-MODEL', 'O', 'O', 'O', 'O']\n",
      "['Huawei', 'Mate', '20', 'Lite']\n",
      "['B-BRAND', 'B-MODEL', 'I-MODEL', 'I-MODEL']\n",
      "['Huawei', 'P20']\n",
      "['B-BRAND', 'B-MODEL']\n",
      "['Samsung', 'Galaxy', 'SII', '64GB', '4GB', 'RAM']\n",
      "['B-BRAND', 'B-MODEL', 'I-MODEL', 'O', 'B-RAM', 'O']\n",
      "['ZTE', 'Blade', 'V9', 'Smartphone', '(14,5cm', '(5,7', 'Zoll)', 'Display,', '32', 'GB', 'interner', 'Speicher,', 'Android)', 'Schwarz']\n",
      "['B-BRAND', 'O', 'B-MODEL', 'O', 'O', 'O', 'O', 'O', 'O', 'O', 'O', 'O', 'O', 'B-COLOR']\n",
      "['Xiaomi', 'Redmi', 'Note', '5', '64Gb', 'Negro']\n",
      "['B-BRAND', 'B-MODEL', 'I-MODEL', 'O', 'O', 'B-COLOR']\n",
      "['Huawei', 'P', 'Smart', '2019', 'Aurora', 'blau', '6,21\"', '64GB', '3GB', 'RAM', 'Dual-SIM']\n",
      "['B-BRAND', 'B-MODEL', 'O', 'O', 'O', 'B-COLOR', 'O', 'O', 'B-RAM', 'O', 'O']\n",
      "['iPhone', '7', '32GB', '-', 'Gold']\n",
      "['B-MODEL', 'I-MODEL', 'O', 'O', 'B-COLOR']\n",
      "['Apple', 'iPhone', '7', 'Plus', '128', 'GB', 'Silber']\n",
      "['B-BRAND', 'B-MODEL', 'I-MODEL', 'I-MODEL', 'O', 'O', 'B-COLOR']\n",
      "['Xiaomi', 'Redmi', 'Go', '-', 'Smartphone', '(1', 'GB', 'de', 'RAM,', '8', 'GB', 'de', 'ROM),', 'Color', 'Negro']\n",
      "['B-BRAND', 'B-MODEL', 'O', 'O', 'O', 'B-RAM', 'I-RAM', 'O', 'O', 'O', 'O', 'O', 'O', 'O', 'B-COLOR']\n",
      "['Smmartphone', 'Xiaomi', 'Redmi', 'Go', '5.0\"', '1GB', '8GB', 'Dual', 'SIM', 'Azul']\n",
      "['O', 'B-BRAND', 'B-MODEL', 'O', 'O', 'O', 'O', 'O', 'O', 'B-COLOR']\n",
      "['HUAWEI', 'P30', 'Pro', '6GB', '+', '128GB,', 'Aurora']\n",
      "['B-BRAND', 'B-MODEL', 'I-MODEL', 'O', 'O', 'O', 'O']\n",
      "['Gigaset', 'GS100', 'Smartphone', 'lemon', 'green']\n",
      "['B-BRAND', 'O', 'O', 'O', 'O']\n"
     ]
    }
   ],
   "source": [
    "# Predict some examples\n",
    "sample_titles = [\n",
    "    \"Apple iPhone 4s 4G 64GB BLUE\",\n",
    "    \"Huawei Mate 20 Lite\",\n",
    "    \"Huawei P20\",\n",
    "    \"Samsung Galaxy SII 64GB 4GB RAM\",\n",
    "    \"ZTE Blade V9 Smartphone (14,5cm (5,7 Zoll) Display, 32 GB interner Speicher, Android) Schwarz\",\n",
    "    \"Xiaomi Redmi Note 5 64Gb Negro\",\n",
    "    \"Huawei P Smart 2019 Aurora blau 6,21\\\" 64GB 3GB RAM Dual-SIM\",\n",
    "    \"iPhone 7 32GB - Gold\",\n",
    "    \"Apple iPhone 7 Plus 128 GB Silber\",\n",
    "    \"Xiaomi Redmi Go - Smartphone (1 GB de RAM, 8 GB de ROM), Color Negro\",\n",
    "    \"Smmartphone Xiaomi Redmi Go 5.0\\\" 1GB 8GB Dual SIM Azul\",\n",
    "    \"HUAWEI P30 Pro 6GB + 128GB, Aurora\",\n",
    "    \"Gigaset GS100 Smartphone lemon green\",\n",
    "]\n",
    "\n",
    "for title in sample_titles:\n",
    "    splitted_title = title.split()\n",
    "    title_featured = title2features(splitted_title)\n",
    "    # TODO preprocess title\n",
    "    labels = crf.predict_single(title_featured)\n",
    "    #prob = crf.predict_marginals_single(title_featured)\n",
    "    print(splitted_title)\n",
    "    print(labels)\n",
    "    #print(prob)"
   ]
  },
  {
   "cell_type": "code",
   "execution_count": 51,
   "metadata": {},
   "outputs": [
    {
     "data": {
      "text/plain": [
       "['../_models/crf.joblib']"
      ]
     },
     "execution_count": 51,
     "metadata": {},
     "output_type": "execute_result"
    }
   ],
   "source": [
    "CRF_MODEL_OUTPUT_FILE = \"../_models/crf.joblib\"\n",
    "\n",
    "# Dump CRF model to file\n",
    "dump(crf, CRF_MODEL_OUTPUT_FILE)"
   ]
  },
  {
   "cell_type": "markdown",
   "metadata": {},
   "source": [
    "<h2>Observations</h2>"
   ]
  },
  {
   "cell_type": "code",
   "execution_count": null,
   "metadata": {},
   "outputs": [],
   "source": []
  }
 ],
 "metadata": {
  "kernelspec": {
   "display_name": "Python 3",
   "language": "python",
   "name": "python3"
  },
  "language_info": {
   "codemirror_mode": {
    "name": "ipython",
    "version": 3
   },
   "file_extension": ".py",
   "mimetype": "text/x-python",
   "name": "python",
   "nbconvert_exporter": "python",
   "pygments_lexer": "ipython3",
   "version": "3.7.3"
  }
 },
 "nbformat": 4,
 "nbformat_minor": 2
}
