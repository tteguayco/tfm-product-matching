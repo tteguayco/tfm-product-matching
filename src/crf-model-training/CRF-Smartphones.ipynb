{
 "cells": [
  {
   "cell_type": "markdown",
   "metadata": {},
   "source": [
    "<h2>Conditional Random Fields (CRF) model for Smartphones offer titles</h2>"
   ]
  },
  {
   "cell_type": "code",
   "execution_count": 1,
   "metadata": {},
   "outputs": [],
   "source": [
    "import pandas as pd\n",
    "import time\n",
    "\n",
    "from sklearn import model_selection, metrics\n",
    "from joblib import dump\n",
    "from sklearn_crfsuite import metrics\n",
    "import sklearn_crfsuite\n",
    "import scipy\n",
    "import sklearn"
   ]
  },
  {
   "cell_type": "code",
   "execution_count": 2,
   "metadata": {},
   "outputs": [],
   "source": [
    "BIO_ENCODED_PRODUCT_TITLES_PATHFILE = \"../_data/bio_encoded_product_titles.csv\"\n",
    "\n",
    "def get_bio_encoded_titles(file_path):\n",
    "    '''\n",
    "    Returns the features for the product titles (i.e. the words) as a list of \n",
    "    lists of strings and the labels for these features as a list of lists of strings.\n",
    "    '''\n",
    "    features = []\n",
    "    labels = []\n",
    "    classes = []\n",
    "\n",
    "    bio_titles_df = pd.read_csv(BIO_ENCODED_PRODUCT_TITLES_PATHFILE, encoding='iso-8859-1')\n",
    "    classes = bio_titles_df[\"BIOTag\"].unique()\n",
    "\n",
    "    for titleNum in bio_titles_df[\"TitleNumber\"].unique():\n",
    "        title_features = bio_titles_df.loc[bio_titles_df[\"TitleNumber\"] == titleNum, \"Word\"].tolist()\n",
    "        title_labels = bio_titles_df.loc[bio_titles_df[\"TitleNumber\"] == titleNum, \"BIOTag\"].tolist()\n",
    "\n",
    "        features.append(title_features)\n",
    "        labels.append(title_labels)\n",
    "\n",
    "    return features, labels, classes"
   ]
  },
  {
   "cell_type": "code",
   "execution_count": 3,
   "metadata": {},
   "outputs": [
    {
     "name": "stdout",
     "output_type": "stream",
     "text": [
      "BIO-encoded titles collected. Elapsed time (s): 196.054\n",
      "Number of BIO-encoded titles collected: 57535\n",
      "\n"
     ]
    }
   ],
   "source": [
    "start_time = time.time()\n",
    "bio_encoded_titles = get_bio_encoded_titles(BIO_ENCODED_PRODUCT_TITLES_PATHFILE)\n",
    "elapsed_time = round(time.time() - start_time, 3)\n",
    "\n",
    "print(\"BIO-encoded titles collected. Elapsed time (s): {}\".format(elapsed_time))\n",
    "print(\"Number of BIO-encoded titles collected: {}\\n\".format(len(bio_encoded_titles[0])))"
   ]
  },
  {
   "cell_type": "code",
   "execution_count": 4,
   "metadata": {},
   "outputs": [
    {
     "name": "stdout",
     "output_type": "stream",
     "text": [
      "BIO-encoded title i = 3100 \n",
      "Features = ['samsung', 'galaxy', 's7', 'edge', 'smartphone', '55', 'zoll', '139', 'cm', '32gb', 'interner', 'speicher']\n",
      "Labels = ['B-BRAND', 'B-MODEL', 'I-MODEL', 'I-MODEL', 'O', 'O', 'O', 'O', 'O', 'O', 'O', 'O']\n"
     ]
    }
   ],
   "source": [
    "# Show and example of a BIO-encoded product title by BIOTagger\n",
    "i = 3100\n",
    "print(\"BIO-encoded title i = {} \".format(i))\n",
    "print(\"Features = {}\".format(str(bio_encoded_titles[0][i])))\n",
    "print(\"Labels = {}\".format(str(bio_encoded_titles[1][i])))"
   ]
  },
  {
   "cell_type": "code",
   "execution_count": 17,
   "metadata": {},
   "outputs": [],
   "source": [
    "def word2features(product_title, i):\n",
    "    '''\n",
    "    A product title is received as a list of words (i.e. strings).\n",
    "    '''\n",
    "    word = product_title[i]\n",
    "\n",
    "    features = {\n",
    "        'word.lower()': word.lower(),\n",
    "        'word.isupper()': word.isupper(),\n",
    "        'word.istitle()': word.istitle(),\n",
    "        'word.isdigit()': word.isdigit(),\n",
    "        'word.isalpha()': word.isalpha(),\n",
    "        'word.containsdigit()': any(char.isdigit() for char in word),\n",
    "        'word.containsNonAlphanumericChars()': not word.isalnum(),\n",
    "    }\n",
    "    \n",
    "    # The word is not the beggining of a product title\n",
    "    if i > 0:\n",
    "        preceding_word = product_title[i-1]\n",
    "        features.update({\n",
    "            '-1:word.lower()': preceding_word.lower(),\n",
    "            '-1:word.istitle()': preceding_word.istitle(),\n",
    "            '-1:word.isupper()': preceding_word.isupper(),\n",
    "        })\n",
    "        \n",
    "    # The word is the beginning of a product title\n",
    "    else:\n",
    "        features['BOT'] = True\n",
    "\n",
    "    # The word is not the end of a product title\n",
    "    if i < len(product_title) - 1:\n",
    "        subsequent_word = product_title[i+1]\n",
    "        features.update({\n",
    "            '+1:word.lower()': subsequent_word.lower(),\n",
    "            '+1:word.istitle()': subsequent_word.istitle(),\n",
    "            '+1:word.isupper()': subsequent_word.isupper(),\n",
    "        })\n",
    "        \n",
    "    # The word is not the end of a product title\n",
    "    else:\n",
    "        features['EOT'] = True\n",
    "\n",
    "    return features\n",
    "\n",
    "\n",
    "def title2features(product_title):\n",
    "    return [word2features(product_title, i) for i in range(len(product_title))]"
   ]
  },
  {
   "cell_type": "code",
   "execution_count": 18,
   "metadata": {},
   "outputs": [],
   "source": [
    "features = [title2features(title) for title in bio_encoded_titles[0]]\n",
    "labels = bio_encoded_titles[1]\n",
    "classes = bio_encoded_titles[2]\n",
    "\n",
    "X_train, X_test, y_train, y_test = model_selection.train_test_split(features, labels, test_size=0.30, random_state=0)"
   ]
  },
  {
   "cell_type": "code",
   "execution_count": 19,
   "metadata": {},
   "outputs": [
    {
     "name": "stdout",
     "output_type": "stream",
     "text": [
      "CRF model training finished. Elapsed time (s): 58.06\n"
     ]
    }
   ],
   "source": [
    "crf = sklearn_crfsuite.CRF(\n",
    "    algorithm='lbfgs',\n",
    "    c1=0.1,\n",
    "    c2=0.01,\n",
    "    max_iterations=200,\n",
    "    all_possible_transitions=True\n",
    ")\n",
    "\n",
    "start_time = time.time()\n",
    "crf.fit(X_train, y_train)\n",
    "elapsed_time = round(time.time() - start_time, 3)\n",
    "\n",
    "print(\"CRF model training finished. Elapsed time (s): {}\".format(elapsed_time))\n",
    "\n",
    "y_pred = crf.predict(X_test)"
   ]
  },
  {
   "cell_type": "markdown",
   "metadata": {},
   "source": [
    "<h2>Evaluation</h2>"
   ]
  },
  {
   "cell_type": "code",
   "execution_count": 20,
   "metadata": {},
   "outputs": [
    {
     "name": "stdout",
     "output_type": "stream",
     "text": [
      "              precision    recall  f1-score   support\n",
      "\n",
      "     B-BRAND       1.00      1.00      1.00     17605\n",
      "     B-MODEL       1.00      1.00      1.00     17261\n",
      "     B-COLOR       1.00      1.00      1.00     14514\n",
      "     I-MODEL       1.00      1.00      1.00      9249\n",
      "       B-RAM       0.98      0.98      0.98       843\n",
      "       I-RAM       0.96      0.98      0.97       520\n",
      "\n",
      "   micro avg       1.00      1.00      1.00     59992\n",
      "   macro avg       0.99      0.99      0.99     59992\n",
      "weighted avg       1.00      1.00      1.00     59992\n",
      "\n"
     ]
    }
   ],
   "source": [
    "# Remove 'O'-tagged words, as most of the words will be 'O'-tagged\n",
    "# and the results will look much better than what they actually are\n",
    "labels = list(crf.classes_)\n",
    "labels.remove('O')\n",
    "\n",
    "print(metrics.flat_classification_report(y_test, y_pred, labels = labels))"
   ]
  },
  {
   "cell_type": "code",
   "execution_count": 38,
   "metadata": {
    "scrolled": true
   },
   "outputs": [
    {
     "name": "stdout",
     "output_type": "stream",
     "text": [
      "['Apple', 'iPhone', '4s', '4G', '64GB', 'BLUE']\n",
      "['B-BRAND', 'B-MODEL', 'I-MODEL', 'O', 'O', 'O']\n",
      "[{'B-BRAND': 0.999999999998774, 'B-MODEL': 1.3924631279347706e-14, 'O': 1.1750836847213896e-12, 'B-COLOR': 1.8609341050946005e-14, 'I-MODEL': 7.657634262835998e-16, 'B-RAM': 4.7567398896955994e-17, 'I-RAM': 1.746591490634558e-14}, {'B-BRAND': 3.480722583675516e-10, 'B-MODEL': 0.9999617581376175, 'O': 3.8207448177357146e-05, 'B-COLOR': 3.399585618195031e-08, 'I-MODEL': 1.3908576546697788e-11, 'B-RAM': 1.7159782120270712e-13, 'I-RAM': 5.619606125808191e-11}, {'B-BRAND': 1.415127348856085e-06, 'B-MODEL': 6.028941808879005e-09, 'O': 0.4490239341489174, 'B-COLOR': 6.519690072541341e-06, 'I-MODEL': 0.5509667953379508, 'B-RAM': 1.1753066639634614e-06, 'I-RAM': 1.543601040599406e-07}, {'B-BRAND': 6.086489649294963e-06, 'B-MODEL': 9.485068077533934e-06, 'O': 0.9999114989920175, 'B-COLOR': 4.153815539363056e-06, 'I-MODEL': 6.830066786673081e-05, 'B-RAM': 4.599766196541793e-07, 'I-RAM': 1.4990229542350078e-08}, {'B-BRAND': 9.342215911757257e-09, 'B-MODEL': 8.730334878392184e-08, 'O': 0.9999996174182918, 'B-COLOR': 2.77843549873133e-07, 'I-MODEL': 2.3346387691396133e-09, 'B-RAM': 5.448031463422851e-09, 'I-RAM': 3.099231423324345e-10}, {'B-BRAND': 1.3753125814701236e-06, 'B-MODEL': 2.3770549870047828e-07, 'O': 0.9996590637272189, 'B-COLOR': 0.00033930841169553446, 'I-MODEL': 1.4149809799810696e-08, 'B-RAM': 6.172436240316067e-10, 'I-RAM': 7.595199898317608e-11}]\n",
      "['Huawei', 'Mate', '20', 'Lite']\n",
      "['B-BRAND', 'B-MODEL', 'I-MODEL', 'I-MODEL']\n",
      "[{'B-BRAND': 0.9999424423006634, 'B-MODEL': 2.2562413562577333e-06, 'O': 5.391028111716962e-05, 'B-COLOR': 1.2141702138904745e-06, 'I-MODEL': 1.123482498944426e-07, 'B-RAM': 1.2531409970952358e-10, 'I-RAM': 6.453308497529867e-08}, {'B-BRAND': 1.1061706534986143e-05, 'B-MODEL': 0.9973038611092218, 'O': 0.002679368782873545, 'B-COLOR': 5.26784241779643e-06, 'I-MODEL': 4.179405737812816e-07, 'B-RAM': 1.5137579939284628e-10, 'I-RAM': 2.2467001965684673e-08}, {'B-BRAND': 1.3318637468537485e-06, 'B-MODEL': 4.2472955993157727e-05, 'O': 0.11165430492873721, 'B-COLOR': 0.00012846351274902867, 'I-MODEL': 0.88816577234879, 'B-RAM': 7.379334792395782e-06, 'I-RAM': 2.750551913236463e-07}, {'B-BRAND': 4.477109215525757e-05, 'B-MODEL': 3.5380367550066254e-06, 'O': 0.1604148937256982, 'B-COLOR': 0.010691820980773443, 'I-MODEL': 0.8288423887958474, 'B-RAM': 1.1095272787430872e-08, 'I-RAM': 2.5762734981287202e-06}]\n",
      "['Huawei', 'P20']\n",
      "['B-BRAND', 'B-MODEL']\n",
      "[{'B-BRAND': 0.9993563803046425, 'B-MODEL': 2.1360114058115673e-05, 'O': 0.000611229558228297, 'B-COLOR': 9.629863751875939e-06, 'I-MODEL': 1.154121738316054e-06, 'B-RAM': 2.3761198822634056e-10, 'I-RAM': 2.4579996904734526e-07}, {'B-BRAND': 9.019262121198119e-08, 'B-MODEL': 0.8646265946949192, 'O': 0.13531394754007162, 'B-COLOR': 5.0611511444314736e-05, 'I-MODEL': 6.004382231816485e-07, 'B-RAM': 7.3900338240210855e-06, 'I-RAM': 7.655888966806792e-07}]\n",
      "['Samsung', 'Galaxy', 'SII', '64GB', '4GB', 'RAM']\n",
      "['B-BRAND', 'B-MODEL', 'I-MODEL', 'O', 'B-RAM', 'O']\n",
      "[{'B-BRAND': 0.9999999995989404, 'B-MODEL': 7.798449068030123e-11, 'O': 3.119848363945321e-10, 'B-COLOR': 4.9354774030050256e-12, 'I-MODEL': 2.396526346053915e-12, 'B-RAM': 1.0403249066986798e-14, 'I-RAM': 3.747596090174003e-12}, {'B-BRAND': 2.5345577035879914e-08, 'B-MODEL': 0.9999327570421791, 'O': 6.718724910686435e-05, 'B-COLOR': 6.866154397611966e-09, 'I-MODEL': 1.6206690007469856e-08, 'B-RAM': 3.962137687638863e-11, 'I-RAM': 7.250671015614582e-09}, {'B-BRAND': 2.0261697105130512e-05, 'B-MODEL': 1.8234195085898441e-06, 'O': 9.294805218277461e-05, 'B-COLOR': 1.3194259202867269e-05, 'I-MODEL': 0.9998717652949904, 'B-RAM': 5.5159902309227353e-11, 'I-RAM': 7.221850287461789e-09}, {'B-BRAND': 2.802720810979708e-08, 'B-MODEL': 1.7836895201107025e-08, 'O': 0.9999822907338665, 'B-COLOR': 1.4851238105572265e-07, 'I-MODEL': 9.891795227843222e-06, 'B-RAM': 7.622965368547747e-06, 'I-RAM': 1.2905277159376592e-10}, {'B-BRAND': 5.700579396823751e-07, 'B-MODEL': 4.932339894152218e-06, 'O': 0.005059489453385673, 'B-COLOR': 5.487653775499046e-06, 'I-MODEL': 4.048209396009664e-08, 'B-RAM': 0.9949219518585699, 'I-RAM': 7.528154341373342e-06}, {'B-BRAND': 2.9010378556276822e-08, 'B-MODEL': 1.4653240958694721e-08, 'O': 0.999996342900286, 'B-COLOR': 7.163352631918427e-09, 'I-MODEL': 2.959167295870873e-08, 'B-RAM': 1.3973829056515955e-12, 'I-RAM': 3.576679671511064e-06}]\n",
      "['ZTE', 'Blade', 'V9', 'Smartphone', '(14,5cm', '(5,7', 'Zoll)', 'Display,', '32', 'GB', 'interner', 'Speicher,', 'Android)', 'Schwarz']\n",
      "['B-BRAND', 'O', 'B-MODEL', 'O', 'O', 'O', 'O', 'O', 'O', 'O', 'O', 'O', 'O', 'B-COLOR']\n",
      "[{'B-BRAND': 0.9989667982101723, 'B-MODEL': 3.3479937087659005e-05, 'O': 0.000982035126020413, 'B-COLOR': 1.5471175737806375e-05, 'I-MODEL': 1.829169578790606e-06, 'B-RAM': 2.5013146908956896e-10, 'I-RAM': 3.86131272197304e-07}, {'B-BRAND': 4.140076079116488e-05, 'B-MODEL': 0.0017105480446581653, 'O': 0.9982477942941405, 'B-COLOR': 2.274625770917949e-07, 'I-MODEL': 2.976438451328099e-12, 'B-RAM': 3.4953282676839076e-10, 'I-RAM': 2.908532485188558e-08}, {'B-BRAND': 2.0606278605397823e-07, 'B-MODEL': 0.9978039707446107, 'O': 0.0021391960330048526, 'B-COLOR': 6.44621308708389e-07, 'I-MODEL': 5.586564457751751e-05, 'B-RAM': 1.1138015094913254e-07, 'I-RAM': 5.513562234199806e-09}, {'B-BRAND': 4.486031658521947e-08, 'B-MODEL': 8.345613288048696e-12, 'O': 0.9999987638473623, 'B-COLOR': 9.559511426846031e-08, 'I-MODEL': 1.0956211842547705e-06, 'B-RAM': 4.1851841157733153e-13, 'I-RAM': 6.725930423448482e-11}, {'B-BRAND': 6.47173159694431e-05, 'B-MODEL': 0.0002973959817619518, 'O': 0.9996110899987579, 'B-COLOR': 5.881284005118274e-06, 'I-MODEL': 2.6553706873105713e-07, 'B-RAM': 2.0649874232750247e-05, 'I-RAM': 8.205218211286517e-12}, {'B-BRAND': 1.0495431579210006e-05, 'B-MODEL': 2.816239646863529e-05, 'O': 0.9999253976486965, 'B-COLOR': 6.05653490208066e-06, 'I-MODEL': 2.2404545173948656e-06, 'B-RAM': 2.588861467053629e-05, 'I-RAM': 1.758919166469522e-06}, {'B-BRAND': 0.00042097076844095844, 'B-MODEL': 0.0005854831896678636, 'O': 0.9949614354272222, 'B-COLOR': 0.0038377772184003465, 'I-MODEL': 1.5558406997437104e-05, 'B-RAM': 0.00015722008733341504, 'I-RAM': 2.1554901938393642e-05}, {'B-BRAND': 2.2615921911301673e-05, 'B-MODEL': 8.76181112558526e-05, 'O': 0.9989625232127237, 'B-COLOR': 0.0005092297017624653, 'I-MODEL': 0.0003718858851658388, 'B-RAM': 6.8674733960768025e-06, 'I-RAM': 3.9259693785109906e-05}, {'B-BRAND': 3.951331942455332e-11, 'B-MODEL': 1.1293476958889174e-10, 'O': 0.9999999821175996, 'B-COLOR': 4.566992968523857e-09, 'I-MODEL': 8.955884071751634e-09, 'B-RAM': 4.187629102499352e-09, 'I-RAM': 1.9446774131998203e-11}, {'B-BRAND': 1.9737512564886057e-06, 'B-MODEL': 5.994736539904627e-07, 'O': 0.9999862515671435, 'B-COLOR': 1.1168129007234261e-05, 'I-MODEL': 4.962315486979641e-09, 'B-RAM': 1.1127213614237566e-10, 'I-RAM': 2.0053515283740432e-09}, {'B-BRAND': 5.656455159322628e-05, 'B-MODEL': 4.638102970207558e-05, 'O': 0.9995889363631649, 'B-COLOR': 0.0003080729849060681, 'I-MODEL': 4.196916917152708e-08, 'B-RAM': 3.0953100182883592e-09, 'I-RAM': 6.15466881064143e-12}, {'B-BRAND': 0.0027760970399813303, 'B-MODEL': 0.0005272599497804439, 'O': 0.9932727089914688, 'B-COLOR': 0.0030606396864880955, 'I-MODEL': 1.8544746583015246e-05, 'B-RAM': 0.00034473995757768104, 'I-RAM': 9.628121029538376e-09}, {'B-BRAND': 0.000516251058837503, 'B-MODEL': 0.0031802254594860504, 'O': 0.993240219002359, 'B-COLOR': 0.0024752151643523965, 'I-MODEL': 0.00034472517944060207, 'B-RAM': 1.0014729962584601e-05, 'I-RAM': 0.00023334940556200774}, {'B-BRAND': 2.422984680248436e-09, 'B-MODEL': 1.6000056756243226e-09, 'O': 0.00010914120435422797, 'B-COLOR': 0.9998908510743783, 'I-MODEL': 2.1103410985117593e-09, 'B-RAM': 1.0752525308224013e-12, 'I-RAM': 1.5868607929706004e-09}]\n",
      "['Xiaomi', 'Redmi', 'Note', '5', '64Gb', 'Negro']\n",
      "['B-BRAND', 'B-MODEL', 'I-MODEL', 'O', 'O', 'B-COLOR']\n"
     ]
    },
    {
     "name": "stdout",
     "output_type": "stream",
     "text": [
      "[{'B-BRAND': 0.9999998791872028, 'B-MODEL': 1.5543699398370155e-11, 'O': 1.1635051390763912e-07, 'B-COLOR': 1.8474468305180428e-09, 'I-MODEL': 2.45849590363819e-12, 'B-RAM': 7.0997769095090265e-12, 'I-RAM': 2.5897346476403736e-09}, {'B-BRAND': 8.547768770872883e-14, 'B-MODEL': 0.9999999917033333, 'O': 8.28193415926304e-09, 'B-COLOR': 6.199040818150572e-12, 'I-MODEL': 7.638456737319691e-12, 'B-RAM': 4.301962912118944e-15, 'I-RAM': 8.051486202315103e-13}, {'B-BRAND': 7.910158724539482e-07, 'B-MODEL': 2.507996740646833e-12, 'O': 0.000628732575434716, 'B-COLOR': 7.01489600152264e-08, 'I-MODEL': 0.999370406131393, 'B-RAM': 1.5861474181146784e-12, 'I-RAM': 1.2424585613486533e-10}, {'B-BRAND': 4.254902965029924e-06, 'B-MODEL': 0.000328369210987695, 'O': 0.9994552576597477, 'B-COLOR': 7.677562631987458e-05, 'I-MODEL': 0.00013503845921524995, 'B-RAM': 3.0406358113771793e-07, 'I-RAM': 7.718340242023275e-11}, {'B-BRAND': 6.021801886261884e-10, 'B-MODEL': 1.6828140071662156e-08, 'O': 0.9999999542897163, 'B-COLOR': 2.6899442330858127e-08, 'I-MODEL': 1.2920971908082888e-09, 'B-RAM': 8.408114377486213e-11, 'I-RAM': 4.342677180558145e-12}, {'B-BRAND': 2.115813421999359e-09, 'B-MODEL': 3.6564728425994806e-10, 'O': 8.699594441318156e-05, 'B-COLOR': 0.9999130015516103, 'I-MODEL': 2.1553709933231275e-11, 'B-RAM': 9.495827357034336e-13, 'I-RAM': 1.2193710597671387e-14}]\n",
      "['Huawei', 'P', 'Smart', '2019', 'Aurora', 'blau', '6,21\"', '64GB', '3GB', 'RAM', 'Dual-SIM']\n",
      "['B-BRAND', 'B-MODEL', 'O', 'O', 'O', 'B-COLOR', 'O', 'O', 'B-RAM', 'O', 'O']\n",
      "[{'B-BRAND': 0.9998901961541307, 'B-MODEL': 3.7040475970757326e-06, 'O': 0.00010421066251621963, 'B-COLOR': 1.6418926898612273e-06, 'I-MODEL': 1.989560016295441e-07, 'B-RAM': 5.552081728788949e-11, 'I-RAM': 4.823154332695555e-08}, {'B-BRAND': 7.694163763874691e-07, 'B-MODEL': 0.9769625760615233, 'O': 0.022990804484793036, 'B-COLOR': 4.557308406418063e-05, 'I-MODEL': 1.7321043203020952e-07, 'B-RAM': 3.2956770348115106e-10, 'I-RAM': 1.0341324331858132e-07}, {'B-BRAND': 0.00012634719335200998, 'B-MODEL': 5.408642519180804e-07, 'O': 0.9835883303963748, 'B-COLOR': 0.001330912471175431, 'I-MODEL': 0.014952965582100767, 'B-RAM': 3.841859204533769e-09, 'I-RAM': 8.996508858014438e-07}, {'B-BRAND': 7.37009915870057e-08, 'B-MODEL': 1.1568313537386197e-06, 'O': 0.9999928410033335, 'B-COLOR': 5.223554992637861e-06, 'I-MODEL': 4.987662195839605e-07, 'B-RAM': 2.0611241120979682e-07, 'I-RAM': 3.069754856209941e-11}, {'B-BRAND': 6.092550336214764e-05, 'B-MODEL': 5.628787710691211e-05, 'O': 0.9996384143091759, 'B-COLOR': 0.00024346767783042848, 'I-MODEL': 8.902662924510816e-07, 'B-RAM': 3.4185303187629995e-10, 'I-RAM': 1.402437922812257e-08}, {'B-BRAND': 4.036627338549266e-07, 'B-MODEL': 5.567564534324963e-08, 'O': 0.002592708596619044, 'B-COLOR': 0.9974068312113481, 'I-MODEL': 8.433099170764388e-10, 'B-RAM': 9.22430586605091e-12, 'I-RAM': 1.1195684481577359e-12}, {'B-BRAND': 2.7683976426034315e-05, 'B-MODEL': 0.0002814797063741645, 'O': 0.9996715347675627, 'B-COLOR': 1.3121395185517755e-05, 'I-MODEL': 9.484619324289231e-08, 'B-RAM': 5.472539037348461e-06, 'I-RAM': 6.127692211888431e-07}, {'B-BRAND': 1.9968717637187907e-08, 'B-MODEL': 1.996196802016193e-07, 'O': 0.9999978965110158, 'B-COLOR': 4.5025682689566604e-08, 'I-MODEL': 1.2453746350111098e-08, 'B-RAM': 1.7006799359834326e-06, 'I-RAM': 1.2574122156847687e-07}, {'B-BRAND': 3.43770022247397e-08, 'B-MODEL': 2.9743699531829947e-07, 'O': 0.004314186174826166, 'B-COLOR': 3.309088116972255e-07, 'I-MODEL': 1.3727132699907163e-09, 'B-RAM': 0.9956837715554954, 'I-RAM': 1.3781741561877451e-06}, {'B-BRAND': 4.438364212526685e-08, 'B-MODEL': 6.418149887498755e-08, 'O': 0.9999978837102755, 'B-COLOR': 7.627907794741331e-10, 'I-MODEL': 1.8650106280746267e-08, 'B-RAM': 4.0503187465465534e-13, 'I-RAM': 1.9883112818164477e-06}, {'B-BRAND': 2.3788733451588125e-08, 'B-MODEL': 5.806908951316337e-09, 'O': 0.9919231505218646, 'B-COLOR': 0.008076781614887469, 'I-MODEL': 4.82063188582095e-10, 'B-RAM': 3.778547862501364e-08, 'I-RAM': 6.362656211287471e-14}]\n",
      "['iPhone', '7', '32GB', '-', 'Gold']\n",
      "['B-MODEL', 'I-MODEL', 'O', 'O', 'B-COLOR']\n",
      "[{'B-BRAND': 9.393522410693666e-10, 'B-MODEL': 0.9999999914020002, 'O': 1.2139003511104412e-09, 'B-COLOR': 2.122939783500005e-11, 'I-MODEL': 6.33016134486644e-09, 'B-RAM': 1.142274984945288e-13, 'I-RAM': 9.324155396194696e-11}, {'B-BRAND': 1.7155579008440405e-12, 'B-MODEL': 2.7892840659536254e-13, 'O': 0.0001812855470559688, 'B-COLOR': 2.3255738209934002e-10, 'I-MODEL': 0.9998187142153971, 'B-RAM': 2.757601410091099e-12, 'I-RAM': 2.3723799053446003e-13}, {'B-BRAND': 6.293164168214338e-08, 'B-MODEL': 3.2022078979572507e-10, 'O': 0.9998980464219085, 'B-COLOR': 7.03657637607419e-08, 'I-MODEL': 0.0001017958967495805, 'B-RAM': 2.4061876412062508e-08, 'I-RAM': 1.8394349253349096e-12}, {'B-BRAND': 0.0008296619388457841, 'B-MODEL': 0.0010820126352403712, 'O': 0.978918221093156, 'B-COLOR': 0.01911859847645842, 'I-MODEL': 3.529596524115274e-05, 'B-RAM': 1.6191449433954582e-05, 'I-RAM': 1.8441624202855596e-08}, {'B-BRAND': 1.5226027047773636e-09, 'B-MODEL': 1.4739260953726972e-09, 'O': 6.964007595090015e-05, 'B-COLOR': 0.9999303548280364, 'I-MODEL': 4.620767686318785e-10, 'B-RAM': 6.7815420496959e-13, 'I-RAM': 1.6367289200379049e-09}]\n",
      "['Apple', 'iPhone', '7', 'Plus', '128', 'GB', 'Silber']\n",
      "['B-BRAND', 'B-MODEL', 'I-MODEL', 'I-MODEL', 'O', 'O', 'B-COLOR']\n",
      "[{'B-BRAND': 0.9999999999991922, 'B-MODEL': 2.769241261805469e-16, 'O': 7.776743146937735e-13, 'B-COLOR': 1.2348145599059752e-14, 'I-MODEL': 2.1401789726211865e-17, 'B-RAM': 4.745886171627765e-17, 'I-RAM': 1.731098840697894e-14}, {'B-BRAND': 2.3514056184946932e-14, 'B-MODEL': 0.9999999979004057, 'O': 2.0817042288377798e-09, 'B-COLOR': 3.4338708654968732e-12, 'I-MODEL': 9.964528803874444e-12, 'B-RAM': 2.3899745993908535e-14, 'I-RAM': 4.4437130455803e-12}, {'B-BRAND': 6.808125588478617e-15, 'B-MODEL': 6.711705781235884e-15, 'O': 1.59459756087661e-05, 'B-COLOR': 8.916810760848917e-13, 'I-MODEL': 0.999984054021968, 'B-RAM': 1.452014607015526e-12, 'I-RAM': 6.580190682127045e-14}, {'B-BRAND': 2.0030346697030032e-08, 'B-MODEL': 1.205438908274131e-10, 'O': 0.00093764265173996, 'B-COLOR': 6.260909831733445e-07, 'I-MODEL': 0.9990617111053613, 'B-RAM': 6.061705303657065e-13, 'I-RAM': 4.1867321956033727e-13}, {'B-BRAND': 2.4421927027693745e-10, 'B-MODEL': 4.507736765238949e-10, 'O': 0.9999685127560127, 'B-COLOR': 6.74401454050013e-08, 'I-MODEL': 3.141393721154539e-05, 'B-RAM': 5.171569353961769e-09, 'I-RAM': 6.783507413930105e-14}, {'B-BRAND': 2.4640156484016195e-06, 'B-MODEL': 2.2765367206896495e-06, 'O': 0.999985328417279, 'B-COLOR': 9.836914694708697e-06, 'I-MODEL': 9.217669297687995e-08, 'B-RAM': 1.3584295430654712e-11, 'I-RAM': 1.925379726316778e-09}, {'B-BRAND': 7.979612463381547e-10, 'B-MODEL': 1.1552398720328692e-09, 'O': 3.568749133652803e-05, 'B-COLOR': 0.9999643105465975, 'I-MODEL': 8.604189196686803e-12, 'B-RAM': 2.595174895072653e-13, 'I-RAM': 1.2632790070491004e-15}]\n",
      "['Xiaomi', 'Redmi', 'Go', '-', 'Smartphone', '(1', 'GB', 'de', 'RAM,', '8', 'GB', 'de', 'ROM),', 'Color', 'Negro']\n",
      "['B-BRAND', 'B-MODEL', 'O', 'O', 'O', 'B-RAM', 'I-RAM', 'O', 'O', 'O', 'O', 'O', 'O', 'O', 'B-COLOR']\n"
     ]
    },
    {
     "name": "stdout",
     "output_type": "stream",
     "text": [
      "[{'B-BRAND': 0.9999998579708544, 'B-MODEL': 7.084456679122689e-10, 'O': 1.3651070546486178e-07, 'B-COLOR': 2.1650696497088264e-09, 'I-MODEL': 4.0223822494833046e-11, 'B-RAM': 7.105372531778135e-12, 'I-RAM': 2.597595367824889e-09}, {'B-BRAND': 1.314180222773893e-10, 'B-MODEL': 0.9999870048315591, 'O': 1.2985588958192529e-05, 'B-COLOR': 9.412311305690179e-09, 'I-MODEL': 1.4362322196057432e-11, 'B-RAM': 6.048556686309743e-14, 'I-RAM': 2.1330286138973958e-11}, {'B-BRAND': 8.512965079718484e-06, 'B-MODEL': 2.5550446958542003e-09, 'O': 0.9994885350237063, 'B-COLOR': 5.7098797521930285e-05, 'I-MODEL': 0.0004458076186590761, 'B-RAM': 1.2073741371993792e-09, 'I-RAM': 4.183261396108462e-08}, {'B-BRAND': 0.0012472106416660746, 'B-MODEL': 4.574876422220326e-05, 'O': 0.990729417148408, 'B-COLOR': 0.0077540694103513065, 'I-MODEL': 0.00010605082615776396, 'B-RAM': 0.00011750036496611397, 'I-RAM': 2.8442283108012687e-09}, {'B-BRAND': 3.8125040400148496e-09, 'B-MODEL': 2.7182177467053013e-08, 'O': 0.9999999267095736, 'B-COLOR': 1.5248699705096665e-08, 'I-MODEL': 9.822496758327641e-11, 'B-RAM': 1.7690384535609558e-12, 'I-RAM': 2.694705100123243e-08}, {'B-BRAND': 3.0844535844983663e-06, 'B-MODEL': 2.2230964777527897e-06, 'O': 0.001141854626713325, 'B-COLOR': 8.99615799256631e-08, 'I-MODEL': 4.172361394640226e-08, 'B-RAM': 0.9988527061372947, 'I-RAM': 7.353829116388166e-13}, {'B-BRAND': 9.596438656996504e-09, 'B-MODEL': 5.455539783664292e-09, 'O': 0.0011416214364249866, 'B-COLOR': 2.215826649575938e-08, 'I-MODEL': 1.975223090435306e-10, 'B-RAM': 8.255410774390606e-13, 'I-RAM': 0.998858341154982}, {'B-BRAND': 1.5366409542887157e-05, 'B-MODEL': 7.834479742664068e-06, 'O': 0.9999754728974051, 'B-COLOR': 7.909812230273456e-07, 'I-MODEL': 5.327126362520004e-07, 'B-RAM': 3.3364758259826876e-10, 'I-RAM': 2.185802193161885e-09}, {'B-BRAND': 0.00038662404481565836, 'B-MODEL': 0.0009987130634234085, 'O': 0.9930976316816058, 'B-COLOR': 0.004244779529633588, 'I-MODEL': 5.161674678987675e-06, 'B-RAM': 0.001267089206808251, 'I-RAM': 7.99034105145227e-10}, {'B-BRAND': 6.644481159846456e-10, 'B-MODEL': 5.105324168860731e-09, 'O': 0.9975678126464184, 'B-COLOR': 2.12008322055512e-08, 'I-MODEL': 2.9037551899828316e-08, 'B-RAM': 0.002432047896493961, 'I-RAM': 8.344893106634581e-08}, {'B-BRAND': 6.420542381748146e-07, 'B-MODEL': 3.11684451748412e-07, 'O': 0.9975343413043274, 'B-COLOR': 1.0726029537042292e-05, 'I-MODEL': 2.586644608172952e-09, 'B-RAM': 5.5454665321132346e-11, 'I-RAM': 0.0024539762853462276}, {'B-BRAND': 2.158929718401277e-07, 'B-MODEL': 1.56050100150156e-07, 'O': 0.9999986207577375, 'B-COLOR': 1.0058569632248784e-06, 'I-MODEL': 1.4249476774436996e-09, 'B-RAM': 1.2034695557260233e-11, 'I-RAM': 5.244772112761164e-12}, {'B-BRAND': 0.00039340620822149073, 'B-MODEL': 0.0005107429388066304, 'O': 0.9938385251468255, 'B-COLOR': 0.004059388925126969, 'I-MODEL': 2.9508837574742434e-06, 'B-RAM': 0.0011949857550246845, 'I-RAM': 1.4223718820794152e-10}, {'B-BRAND': 3.655486719263785e-06, 'B-MODEL': 3.084250127606309e-05, 'O': 0.9999462501961844, 'B-COLOR': 1.3315490464783986e-05, 'I-MODEL': 1.0868484189866754e-06, 'B-RAM': 1.8526119780336455e-11, 'I-RAM': 4.84945841029352e-06}, {'B-BRAND': 1.9667111134456662e-09, 'B-MODEL': 3.467668172280655e-10, 'O': 5.59124541921731e-05, 'B-COLOR': 0.9999440851949263, 'I-MODEL': 3.651342328568416e-11, 'B-RAM': 8.825597616463386e-13, 'I-RAM': 7.649212260646007e-15}]\n",
      "['Smmartphone', 'Xiaomi', 'Redmi', 'Go', '5.0\"', '1GB', '8GB', 'Dual', 'SIM', 'Azul']\n",
      "['O', 'B-BRAND', 'B-MODEL', 'O', 'O', 'O', 'O', 'O', 'O', 'B-COLOR']\n",
      "[{'B-BRAND': 0.16188613850637926, 'B-MODEL': 0.09632677722309847, 'O': 0.7174217474742669, 'B-COLOR': 0.008039823644513177, 'I-MODEL': 0.004148065687989164, 'B-RAM': 1.4937354571158624e-05, 'I-RAM': 0.012162510109181252}, {'B-BRAND': 0.9959943974635023, 'B-MODEL': 5.3271174822348884e-05, 'O': 0.003950016801556288, 'B-COLOR': 1.98281688598094e-06, 'I-MODEL': 1.9037072174746184e-07, 'B-RAM': 2.957235599446944e-09, 'I-RAM': 1.3841527507290574e-07}, {'B-BRAND': 2.631564526797739e-08, 'B-MODEL': 0.9993502197532365, 'O': 0.0006486914700858068, 'B-COLOR': 2.5616994844374316e-07, 'I-MODEL': 8.062191093868244e-07, 'B-RAM': 1.935913566835568e-12, 'I-RAM': 7.003824105369027e-11}, {'B-BRAND': 6.134145583621401e-06, 'B-MODEL': 2.2477974398460863e-09, 'O': 0.9996087794080852, 'B-COLOR': 5.707151077134999e-05, 'I-MODEL': 0.0003279737035154368, 'B-RAM': 1.7721761243301277e-10, 'I-RAM': 3.8807028625131366e-08}, {'B-BRAND': 1.310184632286221e-06, 'B-MODEL': 1.119615789575013e-05, 'O': 0.9999766221083636, 'B-COLOR': 6.061438291426086e-06, 'I-MODEL': 1.011355162597881e-06, 'B-RAM': 3.798715544039027e-06, 'I-RAM': 4.010994513425958e-11}, {'B-BRAND': 2.0659618819434006e-06, 'B-MODEL': 6.673679142059417e-06, 'O': 0.9993009009599702, 'B-COLOR': 3.7717688729663187e-06, 'I-MODEL': 7.107998743641727e-08, 'B-RAM': 0.0006863206980410637, 'I-RAM': 1.9585210395257564e-07}, {'B-BRAND': 2.61452733784924e-06, 'B-MODEL': 0.00015039196302172534, 'O': 0.999722119907913, 'B-COLOR': 1.6005618923347266e-05, 'I-MODEL': 6.263310779749351e-07, 'B-RAM': 7.387514177441254e-06, 'I-RAM': 0.00010085413754808411}, {'B-BRAND': 1.8414479617850222e-06, 'B-MODEL': 1.3379574759175636e-06, 'O': 0.9999590538759118, 'B-COLOR': 3.750364868413992e-05, 'I-MODEL': 2.123338722131898e-07, 'B-RAM': 1.6139448870560295e-10, 'I-RAM': 5.0574699453097446e-08}, {'B-BRAND': 1.5988347846805417e-06, 'B-MODEL': 1.5129875126126574e-06, 'O': 0.9999897328089973, 'B-COLOR': 2.6761350034928102e-06, 'I-MODEL': 4.47922422782697e-06, 'B-RAM': 8.819614245460837e-12, 'I-RAM': 6.542353418346396e-13}, {'B-BRAND': 2.636937235704281e-12, 'B-MODEL': 4.59732043035614e-13, 'O': 0.00012735413043432595, 'B-COLOR': 0.9998726458664391, 'I-MODEL': 2.887605322630603e-14, 'B-RAM': 1.1834630034212933e-15, 'I-RAM': 2.5471712105527177e-18}]\n",
      "['HUAWEI', 'P30', 'Pro', '6GB', '+', '128GB,', 'Aurora']\n",
      "['B-BRAND', 'B-MODEL', 'I-MODEL', 'O', 'O', 'O', 'O']\n",
      "[{'B-BRAND': 0.999969514911278, 'B-MODEL': 9.793845864429024e-07, 'O': 2.897697200876922e-05, 'B-COLOR': 4.5656808322464065e-07, 'I-MODEL': 5.343402127312248e-08, 'B-RAM': 2.820685254050026e-11, 'I-RAM': 1.8701815535712775e-08}, {'B-BRAND': 1.294173623395867e-09, 'B-MODEL': 0.9936554063739023, 'O': 0.006344518075608009, 'B-COLOR': 1.0366341070216837e-08, 'I-MODEL': 3.798579197191222e-09, 'B-RAM': 5.500069271188916e-08, 'I-RAM': 5.090703160301425e-09}, {'B-BRAND': 2.2804787636925093e-05, 'B-MODEL': 1.8858091773318878e-06, 'O': 0.013267184178822366, 'B-COLOR': 0.00021363292226470084, 'I-MODEL': 0.9864943602997823, 'B-RAM': 8.853464652623467e-10, 'I-RAM': 1.3111696959420056e-07}, {'B-BRAND': 8.585417351425194e-06, 'B-MODEL': 2.297011671096841e-06, 'O': 0.9979906658558224, 'B-COLOR': 2.488026012977813e-05, 'I-MODEL': 0.0019048977060625906, 'B-RAM': 6.8673051084303e-05, 'I-RAM': 6.97878297520916e-10}, {'B-BRAND': 0.0004007381882895312, 'B-MODEL': 0.0002475611528762691, 'O': 0.9950227594851054, 'B-COLOR': 0.003877811702152314, 'I-MODEL': 0.00027720867520996073, 'B-RAM': 0.00011641426051222738, 'I-RAM': 5.7506535854099396e-05}, {'B-BRAND': 1.2824093386173348e-06, 'B-MODEL': 6.15926493526506e-05, 'O': 0.9999149984193085, 'B-COLOR': 6.070211360801529e-06, 'I-MODEL': 2.35155604495098e-06, 'B-RAM': 4.38640307559431e-06, 'I-RAM': 9.318351519139549e-06}, {'B-BRAND': 2.173686167327646e-05, 'B-MODEL': 3.819244009382254e-06, 'O': 0.9971725608193848, 'B-COLOR': 0.002799264966703844, 'I-MODEL': 1.8113585199881047e-06, 'B-RAM': 9.74991581011965e-09, 'I-RAM': 7.969997927680575e-07}]\n",
      "['Gigaset', 'GS100', 'Smartphone', 'lemon', 'green']\n",
      "['O', 'O', 'O', 'O', 'O']\n"
     ]
    },
    {
     "name": "stdout",
     "output_type": "stream",
     "text": [
      "[{'B-BRAND': 0.4195448175020373, 'B-MODEL': 0.018984861171664723, 'O': 0.5515325516613871, 'B-COLOR': 0.008689288620887348, 'I-MODEL': 0.001032562215716456, 'B-RAM': 1.521681441702826e-07, 'I-RAM': 0.00021576666016268577}, {'B-BRAND': 3.3167138155903377e-06, 'B-MODEL': 0.01020252533612644, 'O': 0.9895745039585232, 'B-COLOR': 2.0151548807416586e-05, 'I-MODEL': 0.0001939858698258743, 'B-RAM': 4.964112425791554e-06, 'I-RAM': 5.524604754609538e-07}, {'B-BRAND': 1.7152736210594433e-08, 'B-MODEL': 1.2540507381331237e-09, 'O': 0.9999999482198171, 'B-COLOR': 2.1620399549763805e-08, 'I-MODEL': 1.1705047097597823e-08, 'B-RAM': 3.7660895661906286e-13, 'I-RAM': 4.7572625217038577e-11}, {'B-BRAND': 0.001527146211498813, 'B-MODEL': 0.0004694622661055813, 'O': 0.9977115406289109, 'B-COLOR': 0.00029111436956860893, 'I-MODEL': 7.182292266427642e-07, 'B-RAM': 1.8283305478989416e-08, 'I-RAM': 1.1383889889430425e-11}, {'B-BRAND': 2.1721321317646726e-05, 'B-MODEL': 7.645253912361497e-05, 'O': 0.9970810666729332, 'B-COLOR': 0.0028087473416375667, 'I-MODEL': 1.1993789976688264e-05, 'B-RAM': 9.755962667600508e-09, 'I-RAM': 8.579048634971496e-09}]\n"
     ]
    }
   ],
   "source": [
    "# Predict some examples\n",
    "sample_titles = [\n",
    "    \"Apple iPhone 4s 4G 64GB BLUE\",\n",
    "    \"Huawei Mate 20 Lite\",\n",
    "    \"Huawei P20\",\n",
    "    \"Samsung Galaxy SII 64GB 4GB RAM\",\n",
    "    \"ZTE Blade V9 Smartphone (14,5cm (5,7 Zoll) Display, 32 GB interner Speicher, Android) Schwarz\",\n",
    "    \"Xiaomi Redmi Note 5 64Gb Negro\",\n",
    "    \"Huawei P Smart 2019 Aurora blau 6,21\\\" 64GB 3GB RAM Dual-SIM\",\n",
    "    \"iPhone 7 32GB - Gold\",\n",
    "    \"Apple iPhone 7 Plus 128 GB Silber\",\n",
    "    \"Xiaomi Redmi Go - Smartphone (1 GB de RAM, 8 GB de ROM), Color Negro\",\n",
    "    \"Smmartphone Xiaomi Redmi Go 5.0\\\" 1GB 8GB Dual SIM Azul\",\n",
    "    \"HUAWEI P30 Pro 6GB + 128GB, Aurora\",\n",
    "    \"Gigaset GS100 Smartphone lemon green\",\n",
    "]\n",
    "\n",
    "for title in sample_titles:\n",
    "    splitted_title = title.split()\n",
    "    title_featured = title2features(splitted_title)\n",
    "    # TODO preprocess title\n",
    "    labels = crf.predict_single(title_featured)\n",
    "    prob = crf.predict_marginals_single(title_featured)\n",
    "    print(splitted_title)\n",
    "    print(labels)\n",
    "    print(prob)"
   ]
  },
  {
   "cell_type": "code",
   "execution_count": 22,
   "metadata": {},
   "outputs": [
    {
     "data": {
      "text/plain": [
       "['../_models/crf.joblib']"
      ]
     },
     "execution_count": 22,
     "metadata": {},
     "output_type": "execute_result"
    }
   ],
   "source": [
    "CRF_MODEL_OUTPUT_FILE = \"../_models/crf.joblib\"\n",
    "\n",
    "# Dump CRF model to file\n",
    "dump(crf, CRF_MODEL_OUTPUT_FILE)"
   ]
  },
  {
   "cell_type": "markdown",
   "metadata": {},
   "source": [
    "<h2>Observations</h2>"
   ]
  },
  {
   "cell_type": "code",
   "execution_count": null,
   "metadata": {},
   "outputs": [],
   "source": []
  }
 ],
 "metadata": {
  "kernelspec": {
   "display_name": "Python 3",
   "language": "python",
   "name": "python3"
  },
  "language_info": {
   "codemirror_mode": {
    "name": "ipython",
    "version": 3
   },
   "file_extension": ".py",
   "mimetype": "text/x-python",
   "name": "python",
   "nbconvert_exporter": "python",
   "pygments_lexer": "ipython3",
   "version": "3.7.3"
  }
 },
 "nbformat": 4,
 "nbformat_minor": 2
}
