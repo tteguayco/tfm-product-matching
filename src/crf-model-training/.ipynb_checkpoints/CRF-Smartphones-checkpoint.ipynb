{
 "cells": [
  {
   "cell_type": "markdown",
   "metadata": {},
   "source": [
    "<h2>Conditional Random Fields (CRF) model for Smartphones offer titles</h2>"
   ]
  },
  {
   "cell_type": "code",
   "execution_count": 9,
   "metadata": {},
   "outputs": [],
   "source": [
    "import pandas as pd\n",
    "import time\n",
    "\n",
    "from sklearn import model_selection\n",
    "from joblib import dump\n",
    "from sklearn_crfsuite import metrics\n",
    "import sklearn_crfsuite"
   ]
  },
  {
   "cell_type": "code",
   "execution_count": 10,
   "metadata": {},
   "outputs": [],
   "source": [
    "BIO_ENCODED_PRODUCT_TITLES_PATHFILE = \"../_data/bio_encoded_product_titles.csv\"\n",
    "\n",
    "def get_bio_encoded_titles(file_path):\n",
    "    '''\n",
    "    Returns the features for the product titles (i.e. the words) as a list of \n",
    "    lists of strings and the labels for these features as a list of lists of strings.\n",
    "    '''\n",
    "    features = []\n",
    "    labels = []\n",
    "    classes = []\n",
    "\n",
    "    bio_titles_df = pd.read_csv(BIO_ENCODED_PRODUCT_TITLES_PATHFILE, encoding='iso-8859-1')\n",
    "    classes = bio_titles_df[\"BIOTag\"].unique()\n",
    "\n",
    "    for titleNum in bio_titles_df[\"TitleNumber\"].unique():\n",
    "        title_features = bio_titles_df.loc[bio_titles_df[\"TitleNumber\"] == titleNum, \"Word\"].tolist()\n",
    "        title_labels = bio_titles_df.loc[bio_titles_df[\"TitleNumber\"] == titleNum, \"BIOTag\"].tolist()\n",
    "\n",
    "        features.append(title_features)\n",
    "        labels.append(title_labels)\n",
    "\n",
    "    return features, labels, classes"
   ]
  },
  {
   "cell_type": "code",
   "execution_count": 11,
   "metadata": {},
   "outputs": [
    {
     "name": "stdout",
     "output_type": "stream",
     "text": [
      "BIO-encoded titles collected. Elapsed time (s): 174.471\n",
      "Number of BIO-encoded titles collected: 57535\n",
      "\n"
     ]
    }
   ],
   "source": [
    "start_time = time.time()\n",
    "bio_encoded_titles = get_bio_encoded_titles(BIO_ENCODED_PRODUCT_TITLES_PATHFILE)\n",
    "elapsed_time = round(time.time() - start_time, 3)\n",
    "\n",
    "print(\"BIO-encoded titles collected. Elapsed time (s): {}\".format(elapsed_time))\n",
    "print(\"Number of BIO-encoded titles collected: {}\\n\".format(len(bio_encoded_titles[0])))"
   ]
  },
  {
   "cell_type": "code",
   "execution_count": 12,
   "metadata": {},
   "outputs": [
    {
     "name": "stdout",
     "output_type": "stream",
     "text": [
      "BIO-encoded title i = 3100 \n",
      "Features = ['samsung', 'galaxy', 's7', 'edge', 'smartphone', '55', 'zoll', '139', 'cm', '32gb', 'interner', 'speicher']\n",
      "Labels = ['B-BRAND', 'B-MODEL', 'I-MODEL', 'I-MODEL', 'O', 'O', 'O', 'O', 'O', 'O', 'O', 'O']\n"
     ]
    }
   ],
   "source": [
    "# Show and example of a BIO-encoded product title by BIOTagger\n",
    "i = 3100\n",
    "print(\"BIO-encoded title i = {} \".format(i))\n",
    "print(\"Features = {}\".format(str(bio_encoded_titles[0][i])))\n",
    "print(\"Labels = {}\".format(str(bio_encoded_titles[1][i])))"
   ]
  },
  {
   "cell_type": "code",
   "execution_count": 13,
   "metadata": {},
   "outputs": [],
   "source": [
    "features = bio_encoded_titles[0]\n",
    "labels = bio_encoded_titles[1]\n",
    "classes = bio_encoded_titles[2]\n",
    "\n",
    "X_train, X_test, y_train, y_test = model_selection.train_test_split(features, labels, test_size=0.30, random_state=0)"
   ]
  },
  {
   "cell_type": "code",
   "execution_count": 14,
   "metadata": {},
   "outputs": [
    {
     "name": "stdout",
     "output_type": "stream",
     "text": [
      "CRF model training finished. Elapsed time (s): 36.581\n"
     ]
    }
   ],
   "source": [
    "crf = sklearn_crfsuite.CRF(\n",
    "        algorithm='lbfgs',\n",
    "        c1=0.1,\n",
    "        c2=0.01,\n",
    "        max_iterations=200,\n",
    "        all_possible_transitions=True\n",
    "    )\n",
    "\n",
    "start_time = time.time()\n",
    "crf.fit(X_train, y_train)\n",
    "elapsed_time = round(time.time() - start_time, 3)\n",
    "\n",
    "print(\"CRF model training finished. Elapsed time (s): {}\".format(elapsed_time))\n",
    "\n",
    "y_pred = crf.predict(X_test)"
   ]
  },
  {
   "cell_type": "markdown",
   "metadata": {},
   "source": [
    "<h2>Evaluation</h2>"
   ]
  },
  {
   "cell_type": "code",
   "execution_count": 16,
   "metadata": {},
   "outputs": [
    {
     "name": "stdout",
     "output_type": "stream",
     "text": [
      "              precision    recall  f1-score   support\n",
      "\n",
      "     B-BRAND       0.98      0.95      0.96     17605\n",
      "     B-MODEL       0.94      0.90      0.92     17261\n",
      "     B-COLOR       0.83      0.73      0.78     14514\n",
      "     I-MODEL       0.81      0.67      0.73      9249\n",
      "       B-RAM       0.00      0.00      0.00       843\n",
      "       I-RAM       0.00      0.00      0.00       520\n",
      "\n",
      "   micro avg       0.91      0.82      0.86     59992\n",
      "   macro avg       0.59      0.54      0.57     59992\n",
      "weighted avg       0.88      0.82      0.85     59992\n",
      "\n"
     ]
    }
   ],
   "source": [
    "# Remove 'O'-tagged words, as most of the words will be 'O'-tagged\n",
    "# and the results will look much better than what they actually are\n",
    "labels = list(crf.classes_)\n",
    "labels.remove('O')\n",
    "\n",
    "print(metrics.flat_classification_report(y_test, y_pred, labels = labels))"
   ]
  },
  {
   "cell_type": "code",
   "execution_count": 17,
   "metadata": {
    "scrolled": true
   },
   "outputs": [
    {
     "name": "stdout",
     "output_type": "stream",
     "text": [
      "['APPLE', 'IPHONE', 'XR', '4G', '64GB', 'BLUE']\n",
      "[['B-BRAND', 'B-MODEL', 'I-MODEL', 'O', 'O', 'O']]\n",
      "\n",
      "['Huawei', 'Mate', '20', 'Lite']\n",
      "[['B-BRAND', 'B-MODEL', 'B-COLOR', 'O']]\n",
      "\n",
      "['Huawei', 'P20']\n",
      "[['B-BRAND', 'B-COLOR']]\n",
      "\n",
      "['Samsung', 'Galaxy', 'SII', '64GB', '4GB', 'RAM']\n",
      "[['B-BRAND', 'B-MODEL', 'I-MODEL', 'O', 'O', 'O']]\n",
      "\n",
      "['ZTE', 'Blade', 'V9', 'Smartphone', '(14,5cm', '(5,7', 'Zoll)', 'Display,', '32', 'GB', 'interner', 'Speicher,', 'Android)', 'Schwarz']\n",
      "[['B-BRAND', 'B-MODEL', 'O', 'O', 'O', 'O', 'O', 'O', 'O', 'O', 'O', 'O', 'O', 'B-COLOR']]\n",
      "\n"
     ]
    }
   ],
   "source": [
    "# Predict some examples\n",
    "sample_titles = [\n",
    "    \"APPLE IPHONE XR 4G 64GB BLUE\",\n",
    "    \"Huawei Mate 20 Lite\",\n",
    "    \"Huawei P20\",\n",
    "    \"Samsung Galaxy SII 64GB 4GB RAM\",\n",
    "    \"ZTE Blade V9 Smartphone (14,5cm (5,7 Zoll) Display, 32 GB interner Speicher, Android) Schwarz\"\n",
    "]\n",
    "\n",
    "for title in sample_titles:\n",
    "    splitted_title = title.split()\n",
    "    # TODO preprocess title\n",
    "    labels = crf.predict([splitted_title])\n",
    "    print(splitted_title)\n",
    "    print(labels)\n",
    "    print()"
   ]
  },
  {
   "cell_type": "code",
   "execution_count": 26,
   "metadata": {},
   "outputs": [
    {
     "data": {
      "text/plain": [
       "['../_models/crf.joblib']"
      ]
     },
     "execution_count": 26,
     "metadata": {},
     "output_type": "execute_result"
    }
   ],
   "source": [
    "CRF_MODEL_OUTPUT_FILE = \"../_models/crf.joblib\"\n",
    "\n",
    "# Dump CRF model to file\n",
    "dump(crf, CRF_MODEL_OUTPUT_FILE)"
   ]
  }
 ],
 "metadata": {
  "kernelspec": {
   "display_name": "Python 3",
   "language": "python",
   "name": "python3"
  },
  "language_info": {
   "codemirror_mode": {
    "name": "ipython",
    "version": 3
   },
   "file_extension": ".py",
   "mimetype": "text/x-python",
   "name": "python",
   "nbconvert_exporter": "python",
   "pygments_lexer": "ipython3",
   "version": "3.7.3"
  }
 },
 "nbformat": 4,
 "nbformat_minor": 2
}
