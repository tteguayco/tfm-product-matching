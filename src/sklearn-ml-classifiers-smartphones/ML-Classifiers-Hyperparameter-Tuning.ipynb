{
 "cells": [
  {
   "cell_type": "markdown",
   "metadata": {},
   "source": [
    "<h1>Machine Learning Classifiers on distance vectors</h1>"
   ]
  },
  {
   "cell_type": "markdown",
   "metadata": {},
   "source": [
    "<h2>Data Preparation</h2>"
   ]
  },
  {
   "cell_type": "code",
   "execution_count": 1,
   "metadata": {},
   "outputs": [
    {
     "data": {
      "text/html": [
       "<div>\n",
       "<style scoped>\n",
       "    .dataframe tbody tr th:only-of-type {\n",
       "        vertical-align: middle;\n",
       "    }\n",
       "\n",
       "    .dataframe tbody tr th {\n",
       "        vertical-align: top;\n",
       "    }\n",
       "\n",
       "    .dataframe thead th {\n",
       "        text-align: right;\n",
       "    }\n",
       "</style>\n",
       "<table border=\"1\" class=\"dataframe\">\n",
       "  <thead>\n",
       "    <tr style=\"text-align: right;\">\n",
       "      <th></th>\n",
       "      <th>BRAND1</th>\n",
       "      <th>BRAND2</th>\n",
       "      <th>BRAND3</th>\n",
       "      <th>MODEL1</th>\n",
       "      <th>MODEL2</th>\n",
       "      <th>MODEL3</th>\n",
       "      <th>MODEL4</th>\n",
       "      <th>GB_RAM</th>\n",
       "      <th>COLOR</th>\n",
       "      <th>EUR_PRICE</th>\n",
       "      <th>MATCH</th>\n",
       "    </tr>\n",
       "  </thead>\n",
       "  <tbody>\n",
       "    <tr>\n",
       "      <th>0</th>\n",
       "      <td>0.0</td>\n",
       "      <td>0.0</td>\n",
       "      <td>0.0</td>\n",
       "      <td>1.0</td>\n",
       "      <td>1.0</td>\n",
       "      <td>0.0</td>\n",
       "      <td>0.0</td>\n",
       "      <td>1000000.0</td>\n",
       "      <td>1.0</td>\n",
       "      <td>0.0</td>\n",
       "      <td>MATCH</td>\n",
       "    </tr>\n",
       "    <tr>\n",
       "      <th>1</th>\n",
       "      <td>1.0</td>\n",
       "      <td>0.0</td>\n",
       "      <td>0.0</td>\n",
       "      <td>0.0</td>\n",
       "      <td>0.0</td>\n",
       "      <td>0.0</td>\n",
       "      <td>0.0</td>\n",
       "      <td>1000000.0</td>\n",
       "      <td>1.0</td>\n",
       "      <td>0.0</td>\n",
       "      <td>MATCH</td>\n",
       "    </tr>\n",
       "    <tr>\n",
       "      <th>2</th>\n",
       "      <td>1.0</td>\n",
       "      <td>0.0</td>\n",
       "      <td>0.0</td>\n",
       "      <td>0.0</td>\n",
       "      <td>0.0</td>\n",
       "      <td>0.0</td>\n",
       "      <td>0.0</td>\n",
       "      <td>1000000.0</td>\n",
       "      <td>0.0</td>\n",
       "      <td>0.0</td>\n",
       "      <td>MATCH</td>\n",
       "    </tr>\n",
       "    <tr>\n",
       "      <th>3</th>\n",
       "      <td>1.0</td>\n",
       "      <td>0.0</td>\n",
       "      <td>0.0</td>\n",
       "      <td>0.0</td>\n",
       "      <td>0.0</td>\n",
       "      <td>0.0</td>\n",
       "      <td>0.0</td>\n",
       "      <td>1000000.0</td>\n",
       "      <td>1.0</td>\n",
       "      <td>0.0</td>\n",
       "      <td>MATCH</td>\n",
       "    </tr>\n",
       "    <tr>\n",
       "      <th>4</th>\n",
       "      <td>1.0</td>\n",
       "      <td>0.0</td>\n",
       "      <td>0.0</td>\n",
       "      <td>1.0</td>\n",
       "      <td>1.0</td>\n",
       "      <td>1.0</td>\n",
       "      <td>0.0</td>\n",
       "      <td>1000000.0</td>\n",
       "      <td>0.0</td>\n",
       "      <td>0.0</td>\n",
       "      <td>MATCH</td>\n",
       "    </tr>\n",
       "  </tbody>\n",
       "</table>\n",
       "</div>"
      ],
      "text/plain": [
       "   BRAND1  BRAND2  BRAND3  MODEL1  MODEL2  MODEL3  MODEL4     GB_RAM  COLOR  \\\n",
       "0     0.0     0.0     0.0     1.0     1.0     0.0     0.0  1000000.0    1.0   \n",
       "1     1.0     0.0     0.0     0.0     0.0     0.0     0.0  1000000.0    1.0   \n",
       "2     1.0     0.0     0.0     0.0     0.0     0.0     0.0  1000000.0    0.0   \n",
       "3     1.0     0.0     0.0     0.0     0.0     0.0     0.0  1000000.0    1.0   \n",
       "4     1.0     0.0     0.0     1.0     1.0     1.0     0.0  1000000.0    0.0   \n",
       "\n",
       "   EUR_PRICE  MATCH  \n",
       "0        0.0  MATCH  \n",
       "1        0.0  MATCH  \n",
       "2        0.0  MATCH  \n",
       "3        0.0  MATCH  \n",
       "4        0.0  MATCH  "
      ]
     },
     "execution_count": 1,
     "metadata": {},
     "output_type": "execute_result"
    }
   ],
   "source": [
    "import pandas as pd\n",
    "\n",
    "DATASET_FILEPATH = \"../_data/MATCHING_DISTANCE_VECTORS.csv\"\n",
    "MODELS_EXPORT_PATH = \"../_models/\"\n",
    "\n",
    "df = pd.read_csv(DATASET_FILEPATH, header=0, sep=\",\")\n",
    "df.head()"
   ]
  },
  {
   "cell_type": "code",
   "execution_count": 2,
   "metadata": {},
   "outputs": [
    {
     "data": {
      "text/plain": [
       "BRAND1       float64\n",
       "BRAND2       float64\n",
       "BRAND3       float64\n",
       "MODEL1       float64\n",
       "MODEL2       float64\n",
       "MODEL3       float64\n",
       "MODEL4       float64\n",
       "GB_RAM       float64\n",
       "COLOR        float64\n",
       "EUR_PRICE    float64\n",
       "MATCH         object\n",
       "dtype: object"
      ]
     },
     "execution_count": 2,
     "metadata": {},
     "output_type": "execute_result"
    }
   ],
   "source": [
    "df.dtypes"
   ]
  },
  {
   "cell_type": "code",
   "execution_count": 3,
   "metadata": {},
   "outputs": [
    {
     "data": {
      "text/html": [
       "<div>\n",
       "<style scoped>\n",
       "    .dataframe tbody tr th:only-of-type {\n",
       "        vertical-align: middle;\n",
       "    }\n",
       "\n",
       "    .dataframe tbody tr th {\n",
       "        vertical-align: top;\n",
       "    }\n",
       "\n",
       "    .dataframe thead th {\n",
       "        text-align: right;\n",
       "    }\n",
       "</style>\n",
       "<table border=\"1\" class=\"dataframe\">\n",
       "  <thead>\n",
       "    <tr style=\"text-align: right;\">\n",
       "      <th></th>\n",
       "      <th>BRAND1</th>\n",
       "      <th>BRAND2</th>\n",
       "      <th>BRAND3</th>\n",
       "      <th>MODEL1</th>\n",
       "      <th>MODEL2</th>\n",
       "      <th>MODEL3</th>\n",
       "      <th>MODEL4</th>\n",
       "      <th>GB_RAM</th>\n",
       "      <th>COLOR</th>\n",
       "      <th>EUR_PRICE</th>\n",
       "    </tr>\n",
       "  </thead>\n",
       "  <tbody>\n",
       "    <tr>\n",
       "      <th>count</th>\n",
       "      <td>536067.000000</td>\n",
       "      <td>536067.0</td>\n",
       "      <td>536067.0</td>\n",
       "      <td>536067.000000</td>\n",
       "      <td>536067.00000</td>\n",
       "      <td>536067.000000</td>\n",
       "      <td>536067.000000</td>\n",
       "      <td>536067.000000</td>\n",
       "      <td>536067.000000</td>\n",
       "      <td>536067.000000</td>\n",
       "    </tr>\n",
       "    <tr>\n",
       "      <th>mean</th>\n",
       "      <td>0.350870</td>\n",
       "      <td>0.0</td>\n",
       "      <td>0.0</td>\n",
       "      <td>0.436837</td>\n",
       "      <td>0.19405</td>\n",
       "      <td>0.029125</td>\n",
       "      <td>0.000386</td>\n",
       "      <td>999128.862349</td>\n",
       "      <td>0.127336</td>\n",
       "      <td>75993.726939</td>\n",
       "    </tr>\n",
       "    <tr>\n",
       "      <th>std</th>\n",
       "      <td>0.449487</td>\n",
       "      <td>0.0</td>\n",
       "      <td>0.0</td>\n",
       "      <td>0.473811</td>\n",
       "      <td>0.38126</td>\n",
       "      <td>0.166073</td>\n",
       "      <td>0.019520</td>\n",
       "      <td>29501.835379</td>\n",
       "      <td>0.295093</td>\n",
       "      <td>264658.371884</td>\n",
       "    </tr>\n",
       "    <tr>\n",
       "      <th>min</th>\n",
       "      <td>0.000000</td>\n",
       "      <td>0.0</td>\n",
       "      <td>0.0</td>\n",
       "      <td>0.000000</td>\n",
       "      <td>0.00000</td>\n",
       "      <td>0.000000</td>\n",
       "      <td>0.000000</td>\n",
       "      <td>0.000000</td>\n",
       "      <td>0.000000</td>\n",
       "      <td>0.000000</td>\n",
       "    </tr>\n",
       "    <tr>\n",
       "      <th>25%</th>\n",
       "      <td>0.000000</td>\n",
       "      <td>0.0</td>\n",
       "      <td>0.0</td>\n",
       "      <td>0.000000</td>\n",
       "      <td>0.00000</td>\n",
       "      <td>0.000000</td>\n",
       "      <td>0.000000</td>\n",
       "      <td>1000000.000000</td>\n",
       "      <td>0.000000</td>\n",
       "      <td>30.900000</td>\n",
       "    </tr>\n",
       "    <tr>\n",
       "      <th>50%</th>\n",
       "      <td>0.000000</td>\n",
       "      <td>0.0</td>\n",
       "      <td>0.0</td>\n",
       "      <td>0.170000</td>\n",
       "      <td>0.00000</td>\n",
       "      <td>0.000000</td>\n",
       "      <td>0.000000</td>\n",
       "      <td>1000000.000000</td>\n",
       "      <td>0.000000</td>\n",
       "      <td>103.880000</td>\n",
       "    </tr>\n",
       "    <tr>\n",
       "      <th>75%</th>\n",
       "      <td>1.000000</td>\n",
       "      <td>0.0</td>\n",
       "      <td>0.0</td>\n",
       "      <td>1.000000</td>\n",
       "      <td>0.00000</td>\n",
       "      <td>0.000000</td>\n",
       "      <td>0.000000</td>\n",
       "      <td>1000000.000000</td>\n",
       "      <td>0.000000</td>\n",
       "      <td>337.000000</td>\n",
       "    </tr>\n",
       "    <tr>\n",
       "      <th>max</th>\n",
       "      <td>1.000000</td>\n",
       "      <td>0.0</td>\n",
       "      <td>0.0</td>\n",
       "      <td>1.000000</td>\n",
       "      <td>1.00000</td>\n",
       "      <td>1.000000</td>\n",
       "      <td>1.000000</td>\n",
       "      <td>1000000.000000</td>\n",
       "      <td>1.000000</td>\n",
       "      <td>1000000.000000</td>\n",
       "    </tr>\n",
       "  </tbody>\n",
       "</table>\n",
       "</div>"
      ],
      "text/plain": [
       "              BRAND1    BRAND2    BRAND3         MODEL1        MODEL2  \\\n",
       "count  536067.000000  536067.0  536067.0  536067.000000  536067.00000   \n",
       "mean        0.350870       0.0       0.0       0.436837       0.19405   \n",
       "std         0.449487       0.0       0.0       0.473811       0.38126   \n",
       "min         0.000000       0.0       0.0       0.000000       0.00000   \n",
       "25%         0.000000       0.0       0.0       0.000000       0.00000   \n",
       "50%         0.000000       0.0       0.0       0.170000       0.00000   \n",
       "75%         1.000000       0.0       0.0       1.000000       0.00000   \n",
       "max         1.000000       0.0       0.0       1.000000       1.00000   \n",
       "\n",
       "              MODEL3         MODEL4          GB_RAM          COLOR  \\\n",
       "count  536067.000000  536067.000000   536067.000000  536067.000000   \n",
       "mean        0.029125       0.000386   999128.862349       0.127336   \n",
       "std         0.166073       0.019520    29501.835379       0.295093   \n",
       "min         0.000000       0.000000        0.000000       0.000000   \n",
       "25%         0.000000       0.000000  1000000.000000       0.000000   \n",
       "50%         0.000000       0.000000  1000000.000000       0.000000   \n",
       "75%         0.000000       0.000000  1000000.000000       0.000000   \n",
       "max         1.000000       1.000000  1000000.000000       1.000000   \n",
       "\n",
       "            EUR_PRICE  \n",
       "count   536067.000000  \n",
       "mean     75993.726939  \n",
       "std     264658.371884  \n",
       "min          0.000000  \n",
       "25%         30.900000  \n",
       "50%        103.880000  \n",
       "75%        337.000000  \n",
       "max    1000000.000000  "
      ]
     },
     "execution_count": 3,
     "metadata": {},
     "output_type": "execute_result"
    }
   ],
   "source": [
    "df.describe()"
   ]
  },
  {
   "cell_type": "code",
   "execution_count": 4,
   "metadata": {},
   "outputs": [
    {
     "data": {
      "text/plain": [
       "count      536067\n",
       "unique          2\n",
       "top       UNMATCH\n",
       "freq       295184\n",
       "Name: MATCH, dtype: object"
      ]
     },
     "execution_count": 4,
     "metadata": {},
     "output_type": "execute_result"
    }
   ],
   "source": [
    "df[\"MATCH\"].describe()"
   ]
  },
  {
   "cell_type": "code",
   "execution_count": 5,
   "metadata": {},
   "outputs": [
    {
     "data": {
      "text/plain": [
       "UNMATCH    295184\n",
       "MATCH      240883\n",
       "Name: MATCH, dtype: int64"
      ]
     },
     "execution_count": 5,
     "metadata": {},
     "output_type": "execute_result"
    }
   ],
   "source": [
    "# Class variable\n",
    "df[\"MATCH\"].value_counts()"
   ]
  },
  {
   "cell_type": "code",
   "execution_count": 6,
   "metadata": {},
   "outputs": [
    {
     "name": "stdout",
     "output_type": "stream",
     "text": [
      "X_train: (375246, 10)\n",
      "y_train: (375246,)\n",
      "X_test: (160821, 10)\n",
      "y_test: (160821,)\n"
     ]
    }
   ],
   "source": [
    "from sklearn.model_selection import train_test_split\n",
    "\n",
    "X = df.drop(columns=[\"MATCH\"])\n",
    "y = df[\"MATCH\"].values\n",
    "\n",
    "# Train and test sets are stratified, i.e. they both contain the same proportion of classes than the original set\n",
    "X_train, X_test, y_train, y_test = train_test_split(X, y, test_size=0.3, random_state=1, shuffle=True)\n",
    "\n",
    "print(\"X_train: {}\".format(X_train.shape))\n",
    "print(\"y_train: {}\".format(y_train.shape))\n",
    "print(\"X_test: {}\".format(X_test.shape))\n",
    "print(\"y_test: {}\".format(y_test.shape))"
   ]
  },
  {
   "cell_type": "code",
   "execution_count": 7,
   "metadata": {},
   "outputs": [],
   "source": [
    "# Minimize length of training set to make hyperparameter tuning take less time\n",
    "X_train = X_train[:20000]\n",
    "y_train = y_train[:20000]"
   ]
  },
  {
   "cell_type": "markdown",
   "metadata": {},
   "source": [
    "<h2>Hyperparameter tuning</h2>"
   ]
  },
  {
   "cell_type": "markdown",
   "metadata": {},
   "source": [
    "<h3>K Nearest Neighbors</h3>"
   ]
  },
  {
   "cell_type": "code",
   "execution_count": null,
   "metadata": {},
   "outputs": [],
   "source": [
    "from sklearn.neighbors import KNeighborsClassifier\n",
    "from sklearn.model_selection import GridSearchCV\n",
    "import time\n",
    "\n",
    "knn = KNeighborsClassifier()\n",
    "\n",
    "# Perform a Grid Search to find the best values for the hyperparameters (k and weights)\n",
    "# using Cross Validation with 4 stratified partitions\n",
    "param_grid = {\n",
    "    \"n_neighbors\": range(1, 5),\n",
    "    \"weights\": [\"uniform\", \"distance\"]\n",
    "}\n",
    "\n",
    "grid_search = GridSearchCV(knn, param_grid=param_grid, cv=4)\n",
    "\n",
    "start_time = time.time()\n",
    "grid_search.fit(X_train, y_train)\n",
    "finish_time = time.time()\n",
    "\n",
    "print(\"Grid Search for k-NN took {} seconds.\".format(round(finish_time - start_time, 3)))\n",
    "\n",
    "mean_scores = grid_search.cv_results_[\"mean_test_score\"]\n",
    "best_params = grid_search.best_params_\n",
    "\n",
    "best_params"
   ]
  },
  {
   "cell_type": "markdown",
   "metadata": {},
   "source": [
    "<h3>Support Vector Machines</h3>"
   ]
  },
  {
   "cell_type": "code",
   "execution_count": 8,
   "metadata": {},
   "outputs": [
    {
     "name": "stdout",
     "output_type": "stream",
     "text": [
      "Random Search for SVM took 365.079 seconds.\n"
     ]
    },
    {
     "data": {
      "text/plain": [
       "{'C': 450.07963080130486, 'gamma': 9.711499749455284e-06}"
      ]
     },
     "execution_count": 8,
     "metadata": {},
     "output_type": "execute_result"
    }
   ],
   "source": [
    "from sklearn.model_selection import RandomizedSearchCV\n",
    "from sklearn import svm\n",
    "from scipy.stats import uniform as sp_rand\n",
    "from time import time\n",
    "\n",
    "svm_clf = svm.SVC()\n",
    "\n",
    "# Perform a Random Search to find the best values for the hyperparameters (C and gamma)\n",
    "# using Cross Validation with 4 stratified partitions.\n",
    "# n_iter_search random parameter settings are chosen to perform CV\n",
    "param_rand = {\n",
    "    \"C\": sp_rand(loc=1, scale=500), \n",
    "    \"gamma\": sp_rand(loc=1e-9, scale=1e-5)\n",
    "}\n",
    "\n",
    "n_iter_search = 10\n",
    "random_search = RandomizedSearchCV(svm_clf, param_distributions=param_rand, n_iter=n_iter_search, cv=4)\n",
    "\n",
    "start_time = time()\n",
    "random_search.fit(X_train, y_train)\n",
    "finish_time = time()\n",
    "\n",
    "print(\"Random Search for SVM took {} seconds.\".format(round(finish_time - start_time, 3)))\n",
    "\n",
    "mean_scores = random_search.cv_results_[\"mean_test_score\"]\n",
    "best_params = random_search.best_params_\n",
    "\n",
    "best_params"
   ]
  },
  {
   "cell_type": "markdown",
   "metadata": {},
   "source": [
    "<h3>Logistic Regression</h3>"
   ]
  },
  {
   "cell_type": "code",
   "execution_count": null,
   "metadata": {},
   "outputs": [],
   "source": []
  },
  {
   "cell_type": "markdown",
   "metadata": {},
   "source": [
    "<h3>Random Forest</h3>"
   ]
  },
  {
   "cell_type": "code",
   "execution_count": null,
   "metadata": {},
   "outputs": [],
   "source": []
  },
  {
   "cell_type": "code",
   "execution_count": 1,
   "metadata": {},
   "outputs": [
    {
     "data": {
      "text/plain": [
       "38"
      ]
     },
     "execution_count": 1,
     "metadata": {},
     "output_type": "execute_result"
    }
   ],
   "source": [
    "import gc\n",
    "\n",
    "# Force Garbage Collector to realease unreferenced memory\n",
    "gc.collect()"
   ]
  },
  {
   "cell_type": "code",
   "execution_count": null,
   "metadata": {},
   "outputs": [],
   "source": []
  }
 ],
 "metadata": {
  "kernelspec": {
   "display_name": "Python 3",
   "language": "python",
   "name": "python3"
  },
  "language_info": {
   "codemirror_mode": {
    "name": "ipython",
    "version": 3
   },
   "file_extension": ".py",
   "mimetype": "text/x-python",
   "name": "python",
   "nbconvert_exporter": "python",
   "pygments_lexer": "ipython3",
   "version": "3.7.3"
  }
 },
 "nbformat": 4,
 "nbformat_minor": 2
}
