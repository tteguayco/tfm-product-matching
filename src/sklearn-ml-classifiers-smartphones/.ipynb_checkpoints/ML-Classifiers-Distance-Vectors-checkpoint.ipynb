{
 "cells": [
  {
   "cell_type": "markdown",
   "metadata": {},
   "source": [
    "<h1>Machine Learning Classifiers on distance vectors</h1>"
   ]
  },
  {
   "cell_type": "markdown",
   "metadata": {},
   "source": [
    "<h2>Data Preparation</h2>"
   ]
  },
  {
   "cell_type": "code",
   "execution_count": 2,
   "metadata": {},
   "outputs": [
    {
     "data": {
      "text/html": [
       "<div>\n",
       "<style scoped>\n",
       "    .dataframe tbody tr th:only-of-type {\n",
       "        vertical-align: middle;\n",
       "    }\n",
       "\n",
       "    .dataframe tbody tr th {\n",
       "        vertical-align: top;\n",
       "    }\n",
       "\n",
       "    .dataframe thead th {\n",
       "        text-align: right;\n",
       "    }\n",
       "</style>\n",
       "<table border=\"1\" class=\"dataframe\">\n",
       "  <thead>\n",
       "    <tr style=\"text-align: right;\">\n",
       "      <th></th>\n",
       "      <th>BRAND1</th>\n",
       "      <th>BRAND2</th>\n",
       "      <th>BRAND3</th>\n",
       "      <th>MODEL1</th>\n",
       "      <th>MODEL2</th>\n",
       "      <th>MODEL3</th>\n",
       "      <th>MODEL4</th>\n",
       "      <th>GB_RAM</th>\n",
       "      <th>COLOR</th>\n",
       "      <th>EUR_PRICE</th>\n",
       "      <th>MATCH</th>\n",
       "    </tr>\n",
       "  </thead>\n",
       "  <tbody>\n",
       "    <tr>\n",
       "      <th>0</th>\n",
       "      <td>0.0</td>\n",
       "      <td>0.0</td>\n",
       "      <td>0.0</td>\n",
       "      <td>1.0</td>\n",
       "      <td>1.0</td>\n",
       "      <td>0.0</td>\n",
       "      <td>0.0</td>\n",
       "      <td>1000000.0</td>\n",
       "      <td>1.0</td>\n",
       "      <td>0.0</td>\n",
       "      <td>MATCH</td>\n",
       "    </tr>\n",
       "    <tr>\n",
       "      <th>1</th>\n",
       "      <td>1.0</td>\n",
       "      <td>0.0</td>\n",
       "      <td>0.0</td>\n",
       "      <td>0.0</td>\n",
       "      <td>0.0</td>\n",
       "      <td>0.0</td>\n",
       "      <td>0.0</td>\n",
       "      <td>1000000.0</td>\n",
       "      <td>1.0</td>\n",
       "      <td>0.0</td>\n",
       "      <td>MATCH</td>\n",
       "    </tr>\n",
       "    <tr>\n",
       "      <th>2</th>\n",
       "      <td>1.0</td>\n",
       "      <td>0.0</td>\n",
       "      <td>0.0</td>\n",
       "      <td>0.0</td>\n",
       "      <td>0.0</td>\n",
       "      <td>0.0</td>\n",
       "      <td>0.0</td>\n",
       "      <td>1000000.0</td>\n",
       "      <td>0.0</td>\n",
       "      <td>0.0</td>\n",
       "      <td>MATCH</td>\n",
       "    </tr>\n",
       "    <tr>\n",
       "      <th>3</th>\n",
       "      <td>1.0</td>\n",
       "      <td>0.0</td>\n",
       "      <td>0.0</td>\n",
       "      <td>0.0</td>\n",
       "      <td>0.0</td>\n",
       "      <td>0.0</td>\n",
       "      <td>0.0</td>\n",
       "      <td>1000000.0</td>\n",
       "      <td>1.0</td>\n",
       "      <td>0.0</td>\n",
       "      <td>MATCH</td>\n",
       "    </tr>\n",
       "    <tr>\n",
       "      <th>4</th>\n",
       "      <td>1.0</td>\n",
       "      <td>0.0</td>\n",
       "      <td>0.0</td>\n",
       "      <td>1.0</td>\n",
       "      <td>1.0</td>\n",
       "      <td>1.0</td>\n",
       "      <td>0.0</td>\n",
       "      <td>1000000.0</td>\n",
       "      <td>0.0</td>\n",
       "      <td>0.0</td>\n",
       "      <td>MATCH</td>\n",
       "    </tr>\n",
       "  </tbody>\n",
       "</table>\n",
       "</div>"
      ],
      "text/plain": [
       "   BRAND1  BRAND2  BRAND3  MODEL1  MODEL2  MODEL3  MODEL4     GB_RAM  COLOR  \\\n",
       "0     0.0     0.0     0.0     1.0     1.0     0.0     0.0  1000000.0    1.0   \n",
       "1     1.0     0.0     0.0     0.0     0.0     0.0     0.0  1000000.0    1.0   \n",
       "2     1.0     0.0     0.0     0.0     0.0     0.0     0.0  1000000.0    0.0   \n",
       "3     1.0     0.0     0.0     0.0     0.0     0.0     0.0  1000000.0    1.0   \n",
       "4     1.0     0.0     0.0     1.0     1.0     1.0     0.0  1000000.0    0.0   \n",
       "\n",
       "   EUR_PRICE  MATCH  \n",
       "0        0.0  MATCH  \n",
       "1        0.0  MATCH  \n",
       "2        0.0  MATCH  \n",
       "3        0.0  MATCH  \n",
       "4        0.0  MATCH  "
      ]
     },
     "execution_count": 2,
     "metadata": {},
     "output_type": "execute_result"
    }
   ],
   "source": [
    "import pandas as pd\n",
    "\n",
    "DATASET_FILEPATH = \"../_data/MATCHING_DISTANCE_VECTORS.csv\"\n",
    "MODELS_EXPORT_PATH = \"../_models/\"\n",
    "\n",
    "df = pd.read_csv(DATASET_FILEPATH, header=0, sep=\",\")\n",
    "df.head()"
   ]
  },
  {
   "cell_type": "code",
   "execution_count": 3,
   "metadata": {},
   "outputs": [
    {
     "data": {
      "text/html": [
       "<div>\n",
       "<style scoped>\n",
       "    .dataframe tbody tr th:only-of-type {\n",
       "        vertical-align: middle;\n",
       "    }\n",
       "\n",
       "    .dataframe tbody tr th {\n",
       "        vertical-align: top;\n",
       "    }\n",
       "\n",
       "    .dataframe thead th {\n",
       "        text-align: right;\n",
       "    }\n",
       "</style>\n",
       "<table border=\"1\" class=\"dataframe\">\n",
       "  <thead>\n",
       "    <tr style=\"text-align: right;\">\n",
       "      <th></th>\n",
       "      <th>BRAND1</th>\n",
       "      <th>BRAND2</th>\n",
       "      <th>BRAND3</th>\n",
       "      <th>MODEL1</th>\n",
       "      <th>MODEL2</th>\n",
       "      <th>MODEL3</th>\n",
       "      <th>MODEL4</th>\n",
       "      <th>GB_RAM</th>\n",
       "      <th>COLOR</th>\n",
       "      <th>EUR_PRICE</th>\n",
       "    </tr>\n",
       "  </thead>\n",
       "  <tbody>\n",
       "    <tr>\n",
       "      <th>count</th>\n",
       "      <td>536067.000000</td>\n",
       "      <td>536067.0</td>\n",
       "      <td>536067.0</td>\n",
       "      <td>536067.000000</td>\n",
       "      <td>536067.00000</td>\n",
       "      <td>536067.000000</td>\n",
       "      <td>536067.000000</td>\n",
       "      <td>536067.000000</td>\n",
       "      <td>536067.000000</td>\n",
       "      <td>536067.000000</td>\n",
       "    </tr>\n",
       "    <tr>\n",
       "      <th>mean</th>\n",
       "      <td>0.350870</td>\n",
       "      <td>0.0</td>\n",
       "      <td>0.0</td>\n",
       "      <td>0.436837</td>\n",
       "      <td>0.19405</td>\n",
       "      <td>0.029125</td>\n",
       "      <td>0.000386</td>\n",
       "      <td>999128.862349</td>\n",
       "      <td>0.127336</td>\n",
       "      <td>75993.726939</td>\n",
       "    </tr>\n",
       "    <tr>\n",
       "      <th>std</th>\n",
       "      <td>0.449487</td>\n",
       "      <td>0.0</td>\n",
       "      <td>0.0</td>\n",
       "      <td>0.473811</td>\n",
       "      <td>0.38126</td>\n",
       "      <td>0.166073</td>\n",
       "      <td>0.019520</td>\n",
       "      <td>29501.835379</td>\n",
       "      <td>0.295093</td>\n",
       "      <td>264658.371884</td>\n",
       "    </tr>\n",
       "    <tr>\n",
       "      <th>min</th>\n",
       "      <td>0.000000</td>\n",
       "      <td>0.0</td>\n",
       "      <td>0.0</td>\n",
       "      <td>0.000000</td>\n",
       "      <td>0.00000</td>\n",
       "      <td>0.000000</td>\n",
       "      <td>0.000000</td>\n",
       "      <td>0.000000</td>\n",
       "      <td>0.000000</td>\n",
       "      <td>0.000000</td>\n",
       "    </tr>\n",
       "    <tr>\n",
       "      <th>25%</th>\n",
       "      <td>0.000000</td>\n",
       "      <td>0.0</td>\n",
       "      <td>0.0</td>\n",
       "      <td>0.000000</td>\n",
       "      <td>0.00000</td>\n",
       "      <td>0.000000</td>\n",
       "      <td>0.000000</td>\n",
       "      <td>1000000.000000</td>\n",
       "      <td>0.000000</td>\n",
       "      <td>30.900000</td>\n",
       "    </tr>\n",
       "    <tr>\n",
       "      <th>50%</th>\n",
       "      <td>0.000000</td>\n",
       "      <td>0.0</td>\n",
       "      <td>0.0</td>\n",
       "      <td>0.170000</td>\n",
       "      <td>0.00000</td>\n",
       "      <td>0.000000</td>\n",
       "      <td>0.000000</td>\n",
       "      <td>1000000.000000</td>\n",
       "      <td>0.000000</td>\n",
       "      <td>103.880000</td>\n",
       "    </tr>\n",
       "    <tr>\n",
       "      <th>75%</th>\n",
       "      <td>1.000000</td>\n",
       "      <td>0.0</td>\n",
       "      <td>0.0</td>\n",
       "      <td>1.000000</td>\n",
       "      <td>0.00000</td>\n",
       "      <td>0.000000</td>\n",
       "      <td>0.000000</td>\n",
       "      <td>1000000.000000</td>\n",
       "      <td>0.000000</td>\n",
       "      <td>337.000000</td>\n",
       "    </tr>\n",
       "    <tr>\n",
       "      <th>max</th>\n",
       "      <td>1.000000</td>\n",
       "      <td>0.0</td>\n",
       "      <td>0.0</td>\n",
       "      <td>1.000000</td>\n",
       "      <td>1.00000</td>\n",
       "      <td>1.000000</td>\n",
       "      <td>1.000000</td>\n",
       "      <td>1000000.000000</td>\n",
       "      <td>1.000000</td>\n",
       "      <td>1000000.000000</td>\n",
       "    </tr>\n",
       "  </tbody>\n",
       "</table>\n",
       "</div>"
      ],
      "text/plain": [
       "              BRAND1    BRAND2    BRAND3         MODEL1        MODEL2  \\\n",
       "count  536067.000000  536067.0  536067.0  536067.000000  536067.00000   \n",
       "mean        0.350870       0.0       0.0       0.436837       0.19405   \n",
       "std         0.449487       0.0       0.0       0.473811       0.38126   \n",
       "min         0.000000       0.0       0.0       0.000000       0.00000   \n",
       "25%         0.000000       0.0       0.0       0.000000       0.00000   \n",
       "50%         0.000000       0.0       0.0       0.170000       0.00000   \n",
       "75%         1.000000       0.0       0.0       1.000000       0.00000   \n",
       "max         1.000000       0.0       0.0       1.000000       1.00000   \n",
       "\n",
       "              MODEL3         MODEL4          GB_RAM          COLOR  \\\n",
       "count  536067.000000  536067.000000   536067.000000  536067.000000   \n",
       "mean        0.029125       0.000386   999128.862349       0.127336   \n",
       "std         0.166073       0.019520    29501.835379       0.295093   \n",
       "min         0.000000       0.000000        0.000000       0.000000   \n",
       "25%         0.000000       0.000000  1000000.000000       0.000000   \n",
       "50%         0.000000       0.000000  1000000.000000       0.000000   \n",
       "75%         0.000000       0.000000  1000000.000000       0.000000   \n",
       "max         1.000000       1.000000  1000000.000000       1.000000   \n",
       "\n",
       "            EUR_PRICE  \n",
       "count   536067.000000  \n",
       "mean     75993.726939  \n",
       "std     264658.371884  \n",
       "min          0.000000  \n",
       "25%         30.900000  \n",
       "50%        103.880000  \n",
       "75%        337.000000  \n",
       "max    1000000.000000  "
      ]
     },
     "execution_count": 3,
     "metadata": {},
     "output_type": "execute_result"
    }
   ],
   "source": [
    "df.describe()"
   ]
  },
  {
   "cell_type": "code",
   "execution_count": 4,
   "metadata": {},
   "outputs": [
    {
     "data": {
      "text/plain": [
       "count      536067\n",
       "unique          2\n",
       "top       UNMATCH\n",
       "freq       295184\n",
       "Name: MATCH, dtype: object"
      ]
     },
     "execution_count": 4,
     "metadata": {},
     "output_type": "execute_result"
    }
   ],
   "source": [
    "df[\"MATCH\"].describe()"
   ]
  },
  {
   "cell_type": "code",
   "execution_count": 5,
   "metadata": {},
   "outputs": [
    {
     "data": {
      "text/plain": [
       "UNMATCH    295184\n",
       "MATCH      240883\n",
       "Name: MATCH, dtype: int64"
      ]
     },
     "execution_count": 5,
     "metadata": {},
     "output_type": "execute_result"
    }
   ],
   "source": [
    "# Class variable\n",
    "df[\"MATCH\"].value_counts()"
   ]
  },
  {
   "cell_type": "code",
   "execution_count": 6,
   "metadata": {},
   "outputs": [
    {
     "name": "stdout",
     "output_type": "stream",
     "text": [
      "X_train: (375246, 10)\n",
      "y_train: (375246,)\n",
      "X_test: (160821, 10)\n",
      "y_test: (160821,)\n"
     ]
    }
   ],
   "source": [
    "from sklearn.model_selection import train_test_split\n",
    "\n",
    "X = df.drop(columns=[\"MATCH\"])\n",
    "y = df[\"MATCH\"].values\n",
    "\n",
    "# Train and test sets are stratified, i.e. they both contain the same proportion of classes than the original set\n",
    "X_train, X_test, y_train, y_test = train_test_split(X, y, test_size=0.3, random_state=1, shuffle=True)\n",
    "\n",
    "print(\"X_train: {}\".format(X_train.shape))\n",
    "print(\"y_train: {}\".format(y_train.shape))\n",
    "print(\"X_test: {}\".format(X_test.shape))\n",
    "print(\"y_test: {}\".format(y_test.shape))"
   ]
  },
  {
   "cell_type": "markdown",
   "metadata": {},
   "source": [
    "<h2>Model Evaluation Functions</h2>"
   ]
  },
  {
   "cell_type": "code",
   "execution_count": 46,
   "metadata": {},
   "outputs": [],
   "source": [
    "from sklearn.metrics import confusion_matrix\n",
    "from sklearn.metrics import accuracy_score\n",
    "from sklearn.metrics import recall_score\n",
    "from sklearn.metrics import precision_score\n",
    "from sklearn.metrics import f1_score\n",
    "import itertools\n",
    "import numpy as np\n",
    "import matplotlib.pyplot as plt\n",
    "%matplotlib inline\n",
    "\n",
    "def plot_confusion_matrix(cm, classes):\n",
    "    cm_counts = cm\n",
    "    cm = cm.astype('float') / cm.sum(axis=1)[:, np.newaxis]\n",
    "   \n",
    "    cmap=plt.cm.Blues\n",
    "\n",
    "    plt.imshow(cm, interpolation='nearest', cmap=cmap)\n",
    "    plt.colorbar()\n",
    "    tick_marks = np.arange(len(classes))\n",
    "    plt.xticks(tick_marks, classes, rotation=45)\n",
    "    plt.yticks(tick_marks, classes)\n",
    "\n",
    "    thresh = cm.max() / 2.\n",
    "    for i, j in itertools.product(range(cm.shape[0]), range(cm.shape[1])):\n",
    "        plt.text(j, i, str(cm_counts[i, j]) + \" (\" + str(round(cm[i, j] * 100, 2)) + \"%)\",\n",
    "                 horizontalalignment=\"center\",\n",
    "                 color=\"white\" if cm[i, j] > thresh else \"black\")\n",
    "\n",
    "    plt.tight_layout()\n",
    "    plt.ylabel('Actual label')\n",
    "    plt.xlabel('Predicted label')\n",
    "\n",
    "def display_model_evaluation(y_actual, y_pred, classes):\n",
    "    \n",
    "    if len(y_actual) != len(y_pred):\n",
    "        raise ValueError(\"Lengths of provided y_actual and y_pred do not match.\")\n",
    "    \n",
    "    cm = confusion_matrix(y_actual, y_pred)\n",
    "    acc_perc = round(accuracy_score(y_actual, y_pred) * 100, 2)\n",
    "    #recall = recall_score(y_actual, y_pred)\n",
    "    #prec = precision_score(y_actual, y_pred)\n",
    "    #f1 = f1_score(y_actual, y_pred)\n",
    "    \n",
    "    plot_confusion_matrix(cm, classes)\n",
    "    \n",
    "    print(\"Accuracy: {}%\".format(acc_perc))\n",
    "    #print(\"Recall: {}\".format(recall))\n",
    "    #print(\"Precision: {}\".format(prec))\n",
    "    #print(\"F1: {}\".format(f1))"
   ]
  },
  {
   "cell_type": "markdown",
   "metadata": {},
   "source": [
    "<h2>K Nearest Neighbours</h2>"
   ]
  },
  {
   "cell_type": "code",
   "execution_count": null,
   "metadata": {},
   "outputs": [],
   "source": [
    "from sklearn.neighbors import KNeighborsClassifier\n",
    "from sklearn.model_selection import GridSearchCV\n",
    "import time\n",
    "\n",
    "knn = KNeighborsClassifier()\n",
    "\n",
    "# Perform a Grid Search to find the best values for the hyperparameters (k and weights)\n",
    "# using Cross Validation with 4 stratified partitions\n",
    "param_grid = {\n",
    "    \"n_neighbors\": range(1, 5),\n",
    "    \"weights\": [\"uniform\", \"distance\"]\n",
    "}\n",
    "\n",
    "grid_search = GridSearchCV(knn, param_grid=param_grid, cv=4)\n",
    "\n",
    "start_time = time.time()\n",
    "grid_search.fit(X_train, y_train)\n",
    "finish_time = time.time()\n",
    "\n",
    "print(\"Grid Search for k-NN took {} seconds.\".format(round(finish_time - start_time, 3)))\n",
    "\n",
    "mean_scores = grid_search.cv_results_[\"mean_test_score\"]\n",
    "best_params = grid_search.best_params_\n",
    "\n",
    "best_params"
   ]
  },
  {
   "cell_type": "code",
   "execution_count": null,
   "metadata": {},
   "outputs": [],
   "source": [
    "best_k = best_params[\"n_neighbors\"]\n",
    "best_weights = best_params[\"weights\"]\n",
    "\n",
    "print(\"Best values for the k-NN hyperparameters: k = {}, weights = {}\".format(best_k, best_weights))\n",
    "\n",
    "knn = KNeighborsClassifier(n_neighbors=best_k, weights=best_weights)\n",
    "knn.fit(X_train, y_train)\n",
    "\n",
    "y_pred = knn.predict(X_test)"
   ]
  },
  {
   "cell_type": "code",
   "execution_count": null,
   "metadata": {},
   "outputs": [],
   "source": [
    "display_model_evaluation(y_test, y_pred, set(y_test))"
   ]
  },
  {
   "cell_type": "code",
   "execution_count": null,
   "metadata": {},
   "outputs": [],
   "source": [
    "from joblib import dump\n",
    "\n",
    "dump(knn, MODELS_EXPORT_PATH + \"knn_distance_vectors.joblib\")"
   ]
  },
  {
   "cell_type": "markdown",
   "metadata": {},
   "source": [
    "<h2>Support Vector Machines</h2>"
   ]
  },
  {
   "cell_type": "code",
   "execution_count": null,
   "metadata": {},
   "outputs": [],
   "source": [
    "from sklearn.model_selection import RandomizedSearchCV\n",
    "from sklearn import svm\n",
    "from scipy.stats import uniform as sp_rand\n",
    "from time import time\n",
    "\n",
    "svm_clf = svm.SVC()\n",
    "\n",
    "# Perform a Random Search to find the best values for the hyperparameters (C and gamma)\n",
    "# using Cross Validation with 4 stratified partitions.\n",
    "# n_iter_search random parameter settings are chosen to perform CV\n",
    "param_rand = {\n",
    "    \"C\": sp_rand(loc=1, scale=500), \n",
    "    \"gamma\": sp_rand(loc=1e-9, scale=1e-5)\n",
    "}\n",
    "\n",
    "n_iter_search = 20\n",
    "random_search = RandomizedSearchCV(svm_clf, param_distributions=param_rand, n_iter=n_iter_search, cv=4)\n",
    "\n",
    "start_time = time()\n",
    "random_search.fit(X_train, y_train)\n",
    "finish_time = time()\n",
    "\n",
    "print(\"Random Search for SVM took {} seconds.\".format(round(finish_time - start_time, 3)))\n",
    "\n",
    "mean_scores = random_search.cv_results_[\"mean_test_score\"]\n",
    "best_params = random_search.best_params_\n",
    "\n",
    "best_params"
   ]
  },
  {
   "cell_type": "code",
   "execution_count": null,
   "metadata": {},
   "outputs": [],
   "source": [
    "best_C = best_params[\"C\"]\n",
    "best_gamma = best_params[\"gamma\"]\n",
    "\n",
    "print(\"Best values for the SVM hyperparameters: C = {}, gamma = {}\".format(best_C, best_gamma))\n",
    "\n",
    "svm_clf = svm.SVC(C=best_C, gamma=best_gamma, probability=True)\n",
    "svm_clf.fit(X_train, y_train)\n",
    "\n",
    "y_pred = svm_clf.predict(X_test)"
   ]
  },
  {
   "cell_type": "code",
   "execution_count": null,
   "metadata": {},
   "outputs": [],
   "source": [
    "display_model_evaluation(y_test, y_pred, set(y_test))"
   ]
  },
  {
   "cell_type": "code",
   "execution_count": null,
   "metadata": {},
   "outputs": [],
   "source": [
    "from joblib import dump\n",
    "\n",
    "dump(knn, MODELS_EXPORT_PATH + \"svm_distance_vectors.joblib\")"
   ]
  },
  {
   "cell_type": "code",
   "execution_count": 1,
   "metadata": {},
   "outputs": [
    {
     "data": {
      "text/plain": [
       "57"
      ]
     },
     "execution_count": 1,
     "metadata": {},
     "output_type": "execute_result"
    }
   ],
   "source": [
    "import gc\n",
    "\n",
    "# Force Garbage Collector to realease unreferenced memory\n",
    "#gc.collect()"
   ]
  },
  {
   "cell_type": "code",
   "execution_count": null,
   "metadata": {},
   "outputs": [],
   "source": []
  }
 ],
 "metadata": {
  "kernelspec": {
   "display_name": "Python 3",
   "language": "python",
   "name": "python3"
  }
 },
 "nbformat": 4,
 "nbformat_minor": 2
}
